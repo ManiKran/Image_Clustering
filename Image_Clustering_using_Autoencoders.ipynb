{
  "nbformat": 4,
  "nbformat_minor": 0,
  "metadata": {
    "colab": {
      "name": "Deep_Image_Clustering_using_Autoencoders.ipynb",
      "provenance": [],
      "collapsed_sections": []
    },
    "kernelspec": {
      "name": "python3",
      "display_name": "Python 3"
    },
    "language_info": {
      "name": "python"
    },
    "accelerator": "GPU"
  },
  "cells": [
    {
      "cell_type": "markdown",
      "metadata": {
        "id": "KrfpwK4tEMRo"
      },
      "source": [
        "# Importing libraries & methods"
      ]
    },
    {
      "cell_type": "code",
      "metadata": {
        "id": "xnvZR8UkD0LH"
      },
      "source": [
        "# Importing important libraries\n",
        "import numpy as np\n",
        "import pandas as pd\n",
        "import tensorflow as tf\n",
        "import matplotlib.pyplot as plt\n",
        "plt.style.use('fivethirtyeight')\n",
        "\n",
        "from sklearn.cluster import KMeans, AgglomerativeClustering, SpectralClustering\n",
        "from sklearn.metrics import adjusted_rand_score as ari\n",
        "from sklearn.metrics import normalized_mutual_info_score as nmi\n",
        "\n",
        "from tensorflow.keras.layers import Conv2D, Conv2DTranspose, Dense, Flatten, Reshape, BatchNormalization, Activation, ActivityRegularization, LeakyReLU\n",
        "from tensorflow.keras.models import Sequential, Model"
      ],
      "execution_count": null,
      "outputs": []
    },
    {
      "cell_type": "code",
      "metadata": {
        "id": "lbSblV7_Vw4u"
      },
      "source": [
        "def Compare_Images(x, px, num_imgs=5):\n",
        "  np.random.seed(100)\n",
        "  test_imgs = np.random.randint(x.shape[0], size=num_imgs)\n",
        "  \n",
        "  for i, img_index in enumerate(test_imgs):\n",
        "    ax = plt.subplot(2, num_imgs, i+1)\n",
        "    if x.shape[3] != 1:\n",
        "        plt.imshow(x[img_index].reshape(x.shape[1],x.shape[2],-1))\n",
        "    else:\n",
        "        plt.imshow(x[img_index].reshape(x.shape[1],x.shape[2]))\n",
        "    plt.gray()\n",
        "    ax.get_xaxis().set_visible(False)\n",
        "    ax.get_yaxis().set_visible(False)\n",
        "    \n",
        "    ax = plt.subplot(2, num_imgs, num_imgs+i+1)\n",
        "    if x.shape[3] != 1:\n",
        "        plt.imshow(px[img_index].reshape(x.shape[1],x.shape[2],-1))\n",
        "    else:\n",
        "        plt.imshow(px[img_index].reshape(x.shape[1],x.shape[2]))\n",
        "    plt.gray()\n",
        "    ax.get_xaxis().set_visible(False)\n",
        "    ax.get_yaxis().set_visible(False)\n",
        "\n",
        "  plt.show()"
      ],
      "execution_count": null,
      "outputs": []
    },
    {
      "cell_type": "markdown",
      "metadata": {
        "id": "1ZdQ-GYXESV-"
      },
      "source": [
        "# Importing Datasets"
      ]
    },
    {
      "cell_type": "code",
      "metadata": {
        "id": "XoAQJsQcEbTZ",
        "colab": {
          "base_uri": "https://localhost:8080/"
        },
        "outputId": "7cb1b56a-317d-49b9-9710-d3bf977fe74a"
      },
      "source": [
        "# MNIST Dataset\n",
        "(MNIST_x_train, MNIST_y_train), (MNIST_x_test, MNIST_y_test) = tf.keras.datasets.mnist.load_data()\n",
        "\n",
        "MNIST_K = 10"
      ],
      "execution_count": null,
      "outputs": [
        {
          "output_type": "stream",
          "name": "stdout",
          "text": [
            "Downloading data from https://storage.googleapis.com/tensorflow/tf-keras-datasets/mnist.npz\n",
            "11493376/11490434 [==============================] - 0s 0us/step\n",
            "11501568/11490434 [==============================] - 0s 0us/step\n"
          ]
        }
      ]
    },
    {
      "cell_type": "code",
      "metadata": {
        "id": "YZT9fXRHvp-d",
        "colab": {
          "base_uri": "https://localhost:8080/"
        },
        "outputId": "b3aa2c83-8547-48cb-e3a9-57d592a89dfc"
      },
      "source": [
        "MNIST_x = np.concatenate((MNIST_x_train, MNIST_x_test))\n",
        "MNIST_y = np.concatenate((MNIST_y_train, MNIST_y_test))\n",
        "\n",
        "MNIST_x = MNIST_x.reshape(-1, 28, 28, 1).astype('float32')\n",
        "MNIST_x = MNIST_x/255.\n",
        "\n",
        "print(MNIST_x.shape, MNIST_y.shape)"
      ],
      "execution_count": null,
      "outputs": [
        {
          "output_type": "stream",
          "name": "stdout",
          "text": [
            "(70000, 28, 28, 1) (70000,)\n"
          ]
        }
      ]
    },
    {
      "cell_type": "code",
      "metadata": {
        "id": "uLl6u7FNFJMz",
        "colab": {
          "base_uri": "https://localhost:8080/"
        },
        "outputId": "cfac6765-6270-4306-fe64-7e78e9dbb6c0"
      },
      "source": [
        "# Fashion MNIST dataset\n",
        "(Fashion_x_train, Fashion_y_train), (Fashion_x_test, Fashion_y_test) = tf.keras.datasets.fashion_mnist.load_data()\n",
        "\n",
        "Fashion_labels = [\"T-shirt/top\", \"Trouser\", \"Pullover\", \"Dress\", \"Coat\", \"Sandal\", \"Shirt\", \"Sneaker\", \"Bag\", \"Ankle boot\"]\n",
        "Fashion_K = len(Fashion_labels)"
      ],
      "execution_count": null,
      "outputs": [
        {
          "output_type": "stream",
          "name": "stdout",
          "text": [
            "Downloading data from https://storage.googleapis.com/tensorflow/tf-keras-datasets/train-labels-idx1-ubyte.gz\n",
            "32768/29515 [=================================] - 0s 0us/step\n",
            "40960/29515 [=========================================] - 0s 0us/step\n",
            "Downloading data from https://storage.googleapis.com/tensorflow/tf-keras-datasets/train-images-idx3-ubyte.gz\n",
            "26427392/26421880 [==============================] - 0s 0us/step\n",
            "26435584/26421880 [==============================] - 0s 0us/step\n",
            "Downloading data from https://storage.googleapis.com/tensorflow/tf-keras-datasets/t10k-labels-idx1-ubyte.gz\n",
            "16384/5148 [===============================================================================================] - 0s 0us/step\n",
            "Downloading data from https://storage.googleapis.com/tensorflow/tf-keras-datasets/t10k-images-idx3-ubyte.gz\n",
            "4423680/4422102 [==============================] - 0s 0us/step\n",
            "4431872/4422102 [==============================] - 0s 0us/step\n"
          ]
        }
      ]
    },
    {
      "cell_type": "code",
      "metadata": {
        "id": "kuOsVLp4vx-t",
        "colab": {
          "base_uri": "https://localhost:8080/"
        },
        "outputId": "c5d78f75-514f-47bc-c56e-cd8d68b15031"
      },
      "source": [
        "Fashion_x = np.concatenate((Fashion_x_train, Fashion_x_test))\n",
        "Fashion_y = np.concatenate((Fashion_y_train, Fashion_y_test))\n",
        "\n",
        "Fashion_x = Fashion_x.reshape(-1, 28, 28, 1).astype('float32')\n",
        "Fashion_x = Fashion_x/255.\n",
        "\n",
        "print(Fashion_x.shape, Fashion_y.shape)"
      ],
      "execution_count": null,
      "outputs": [
        {
          "output_type": "stream",
          "name": "stdout",
          "text": [
            "(70000, 28, 28, 1) (70000,)\n"
          ]
        }
      ]
    },
    {
      "cell_type": "code",
      "metadata": {
        "id": "Gk1BvmrfEX7Z"
      },
      "source": [
        "# Cifar10 Dataset\n",
        "(Cifar10_x_train, Cifar10_y_train), (Cifar10_x_test, Cifar10_y_test) = tf.keras.datasets.cifar10.load_data()\n",
        "\n",
        "# Cifar10_labels = ['airplane', 'automobile', 'bird', 'cat', 'deer', 'dog', 'frog', 'horse', 'ship', 'truck']\n",
        "# Cifar10_K = len(Cifar10_labels)"
      ],
      "execution_count": null,
      "outputs": []
    },
    {
      "cell_type": "code",
      "metadata": {
        "id": "W5ULccORvyiR",
        "colab": {
          "base_uri": "https://localhost:8080/"
        },
        "outputId": "ccd4789e-4157-4e87-c8d0-0c4e4621f0e3"
      },
      "source": [
        "Cifar10_x = np.concatenate((Cifar10_x_train, Cifar10_x_test), axis=0)\n",
        "Cifar10_y = np.concatenate((Cifar10_y_train, Cifar10_y_test), axis=0)\n",
        "\n",
        "Cifar10_x = Cifar10_x.reshape(-1, 32, 32, 3).astype('float32')\n",
        "Cifar10_x = Cifar10_x/255.\n",
        "Cifar10_y = Cifar10_y.reshape(-1, )\n",
        "\n",
        "print(Cifar10_x.shape, Cifar10_y.shape)"
      ],
      "execution_count": null,
      "outputs": [
        {
          "output_type": "stream",
          "name": "stdout",
          "text": [
            "(60000, 32, 32, 3) (60000,)\n"
          ]
        }
      ]
    },
    {
      "cell_type": "markdown",
      "metadata": {
        "id": "TVbAg4r9E68K"
      },
      "source": [
        "# Traditional Clustering Methods"
      ]
    },
    {
      "cell_type": "code",
      "metadata": {
        "id": "ybp2uMbsFEwr"
      },
      "source": [
        "# Instantiating Kmeans\n",
        "MNIST_kmeans = KMeans(n_clusters=10, init='k-means++')\n",
        "Fashion_kmeans = KMeans(n_clusters=10, init='k-means++')\n",
        "Cifar10_kmeans = KMeans(n_clusters=10, init='k-means++')\n",
        "\n",
        "# Preprocessing Data\n",
        "MNIST_x_1d = MNIST_x.reshape(MNIST_x.shape[0], -1)\n",
        "Fashion_x_1d = Fashion_x.reshape(Fashion_x.shape[0], -1)\n",
        "Cifar10_x_1d = Cifar10_x.reshape(Cifar10_x.shape[0], -1)"
      ],
      "execution_count": null,
      "outputs": []
    },
    {
      "cell_type": "code",
      "metadata": {
        "id": "SNOfq9_oJ-ys"
      },
      "source": [
        "# Learning & Predicting from the Data\n",
        "# MNIST_kmeans_y = MNIST_kmeans.fit_predict(MNIST_x_1d)\n",
        "# Fashion_kmeans_y = Fashion_kmeans.fit_predict(Fashion_x_1d)\n",
        "Cifar10_kmeans_y = Cifar10_kmeans.fit_predict(Cifar10_x_1d)"
      ],
      "execution_count": null,
      "outputs": []
    },
    {
      "cell_type": "code",
      "metadata": {
        "id": "hBwiyuONGZ0e",
        "colab": {
          "base_uri": "https://localhost:8080/"
        },
        "outputId": "f51a873c-7bf2-4a99-8f4d-d2e718e00ed5"
      },
      "source": [
        "# Evaluations\n",
        "print(\"ARI score of MNIST_kmeans: \",ari(MNIST_y, MNIST_kmeans_y))\n",
        "print(\"ARI score of Fashion_kmeans: \",ari(Fashion_y, Fashion_kmeans_y))\n",
        "print(\"ARI score of Cifar10_kmeans: \",ari(Cifar10_y, Cifar10_kmeans_y))\n",
        "\n",
        "print(\"NMI of MNIST_kmeans: \",nmi(MNIST_y, MNIST_kmeans_y))\n",
        "print(\"NMI of Fashion_kmeans: \",nmi(Fashion_y, Fashion_kmeans_y))\n",
        "print(\"NMI of Cifar10_kmeans: \",nmi(Cifar10_y, Cifar10_kmeans_y))"
      ],
      "execution_count": null,
      "outputs": [
        {
          "output_type": "stream",
          "name": "stdout",
          "text": [
            "ARI score of MNIST_kmeans:  0.36675295135972547\n",
            "ARI score of Fashion_kmeans:  0.38486542942077084\n",
            "ARI score of Cifar10_kmeans:  0.04187450972693852\n",
            "NMI of MNIST_kmeans:  0.49990657785489695\n",
            "NMI of Fashion_kmeans:  0.5289213837923732\n",
            "NMI of Cifar10_kmeans:  0.07942691386172925\n"
          ]
        }
      ]
    },
    {
      "cell_type": "markdown",
      "metadata": {
        "id": "qYBtt_aNL-ne"
      },
      "source": [
        "# Our Learnings"
      ]
    },
    {
      "cell_type": "markdown",
      "metadata": {
        "id": "yF6UlfzxF7Xt"
      },
      "source": [
        "## Autoencoder Models"
      ]
    },
    {
      "cell_type": "markdown",
      "metadata": {
        "id": "R_L2V5ldF_yG"
      },
      "source": [
        "### Simple Autoencoder"
      ]
    },
    {
      "cell_type": "code",
      "metadata": {
        "id": "5EJSx_3rILua"
      },
      "source": [
        "def SimpleAE (input_shape=(28, 28, 1), filters=[64, 16]):\n",
        "  model = Sequential()\n",
        "  model.add(Flatten())\n",
        "  model.add(Dense(filters[0], activation='relu', name='encoder_1'))\n",
        "  model.add(Dense(filters[1], activation='relu', name='embedding'))\n",
        "  model.add(Dense(input_shape[0]*input_shape[1]*input_shape[2], activation='sigmoid', name='decoder_1'))\n",
        "  model.add(Reshape(input_shape))\n",
        "  # model.summary()\n",
        "  return model"
      ],
      "execution_count": null,
      "outputs": []
    },
    {
      "cell_type": "markdown",
      "metadata": {
        "id": "yZH7TBKnGGtA"
      },
      "source": [
        "### Simple Autoencoder with LeakyRelu, Batch Normalization & ActivityRegularization\n",
        "\n"
      ]
    },
    {
      "cell_type": "code",
      "metadata": {
        "id": "HlRraz70RJG2"
      },
      "source": [
        "def SimpleAE_plus (input_shape=(28, 28, 1), filters=[64, 16]):\n",
        "  model = Sequential()\n",
        "  model.add(Flatten())\n",
        "  model.add(Dense(filters[0], name='encoder_1'))\n",
        "  model.add(BatchNormalization())\n",
        "  model.add(LeakyReLU())\n",
        "  model.add(Dense(filters[1]))\n",
        "  model.add(BatchNormalization())\n",
        "  model.add(LeakyReLU())\n",
        "  model.add(ActivityRegularization(l1=10e-6, name='embedding'))\n",
        "  model.add(Dense(input_shape[0]*input_shape[1]*input_shape[2], activation='sigmoid', name='decoder_1'))\n",
        "  model.add(Reshape(input_shape))\n",
        "  # model.summary()\n",
        "  return model"
      ],
      "execution_count": null,
      "outputs": []
    },
    {
      "cell_type": "markdown",
      "metadata": {
        "id": "SkVX0mBMGOGx"
      },
      "source": [
        "### Convolutional Autoencoder"
      ]
    },
    {
      "cell_type": "code",
      "metadata": {
        "id": "ePLzC1z5VLki"
      },
      "source": [
        "def ConvAE (input_shape=(28, 28, 1), filters=[32, 64, 16]):\n",
        "  model = Sequential()\n",
        "  model.add(Conv2D(filters[0], (3, 3), strides=2, padding='same', activation='relu', name='encoder_1', input_shape=input_shape))\n",
        "  model.add(Conv2D(filters[1], (3, 3), strides=2, padding='same', activation='relu', name='encoder_2'))\n",
        "  reshape = model.output_shape\n",
        "  model.add(Flatten())\n",
        "  model.add(Dense(filters[2], activation='relu', name='embedding'))\n",
        "  \n",
        "  model.add(Dense(filters[1]*reshape[1]*reshape[1], activation='relu'))\n",
        "  model.add(Reshape((reshape[1],reshape[1], filters[1])))\n",
        "  model.add(Conv2DTranspose(filters[0], (3, 3), strides=2, padding='same', activation='relu', name='decoder_2'))\n",
        "  model.add(Conv2DTranspose(input_shape[2], (3, 3), strides=2, padding='same', activation='sigmoid', name='decoder_1'))\n",
        "  # model.summary()\n",
        "  return model"
      ],
      "execution_count": null,
      "outputs": []
    },
    {
      "cell_type": "markdown",
      "metadata": {
        "id": "4yNjtbqHGTiR"
      },
      "source": [
        "### Convolutional Autoencoder with LeakyRelu, Batch Normalization & ActivityRegularization"
      ]
    },
    {
      "cell_type": "code",
      "metadata": {
        "id": "U0VluBgjmblq"
      },
      "source": [
        "def ConvAE_plus (input_shape=(28, 28, 1), filters=[32, 64, 16]):\n",
        "  model = Sequential()\n",
        "  model.add(Conv2D(filters[0], (3, 3), strides=2, padding='same', name='encoder_1', input_shape=input_shape))\n",
        "  model.add(BatchNormalization())\n",
        "  model.add(LeakyReLU())\n",
        "  \n",
        "  model.add(Conv2D(filters[1], (3, 3), strides=2, padding='same', name='encoder_2'))\n",
        "  model.add(BatchNormalization())\n",
        "  model.add(LeakyReLU())\n",
        "  reshape = model.output_shape\n",
        "  \n",
        "  model.add(Flatten())\n",
        "  model.add(Dense(filters[2]))\n",
        "  model.add(BatchNormalization())\n",
        "  model.add(LeakyReLU())\n",
        "  model.add(ActivityRegularization(l1=10e-6, name='embedding'))\n",
        "  \n",
        "  model.add(Dense(filters[1]*reshape[1]*reshape[1]))\n",
        "  model.add(BatchNormalization())\n",
        "  model.add(LeakyReLU())\n",
        "  model.add(Reshape((reshape[1],reshape[1], filters[1])))\n",
        "  \n",
        "  model.add(Conv2DTranspose(filters[0], (3, 3), strides=2, padding='same', name='decoder_2'))\n",
        "  model.add(BatchNormalization())\n",
        "  model.add(LeakyReLU())\n",
        "  \n",
        "  model.add(Conv2DTranspose(input_shape[2], (3, 3), strides=2, padding='same', activation='sigmoid', name='decoder_1'))\n",
        "  # model.summary()\n",
        "  return model"
      ],
      "execution_count": null,
      "outputs": []
    },
    {
      "cell_type": "markdown",
      "metadata": {
        "id": "Vack9omOGZuQ"
      },
      "source": [
        "### Deep Convolutional Autoencoder"
      ]
    },
    {
      "cell_type": "code",
      "metadata": {
        "id": "-GAf2EsXoKu6"
      },
      "source": [
        "def DeepConvAE (input_shape=(28, 28, 1), filters=[32, 64, 128, 16]):\n",
        "  padding = 'valid'\n",
        "  if (input_shape[0])%8 == 0:\n",
        "    padding = 'same'\n",
        "\n",
        "  model = Sequential()\n",
        "  model.add(Conv2D(filters[0], (5, 5), strides=2, padding='same', activation='relu', name='encoder_1', input_shape=input_shape))\n",
        "  model.add(Conv2D(filters[1], (5, 5), strides=2, padding='same', activation='relu', name='encoder_2'))\n",
        "  model.add(Conv2D(filters[2], (3, 3), strides=2, padding=padding, activation='relu', name='encoder_3'))\n",
        "  reshape = model.output_shape\n",
        "  \n",
        "  model.add(Flatten())\n",
        "  model.add(Dense(filters[3], activation='relu', name='embedding'))\n",
        "  \n",
        "  model.add(Dense(filters[2]*reshape[1]*reshape[1], activation='relu'))\n",
        "  model.add(Reshape((reshape[1],reshape[1], filters[2])))\n",
        "  model.add(Conv2DTranspose(filters[1], (3, 3), strides=2, padding=padding, activation='relu', name='decoder_3'))\n",
        "  model.add(Conv2DTranspose(filters[0], (5, 5), strides=2, padding='same', activation='relu', name='decoder_2'))\n",
        "  model.add(Conv2DTranspose(input_shape[2], (5, 5), strides=2, padding='same', activation='sigmoid', name='decoder_1'))\n",
        "  # model.summary()\n",
        "  return model"
      ],
      "execution_count": null,
      "outputs": []
    },
    {
      "cell_type": "markdown",
      "metadata": {
        "id": "N6_AsZkuGirr"
      },
      "source": [
        "### Deep Convolutional Autoencoder with LeakyRelu, Batch Normalization & ActivityRegularization"
      ]
    },
    {
      "cell_type": "code",
      "metadata": {
        "id": "Mty8ifJtt1X0"
      },
      "source": [
        "def DeepConvAE_plus (input_shape=(28, 28, 1), filters=[32, 64, 128, 16]):\n",
        "  padding = 'valid'\n",
        "  if (input_shape[0])%8 == 0:\n",
        "    padding = 'same'\n",
        "\n",
        "  model = Sequential()\n",
        "  model.add(Conv2D(filters[0], (5, 5), strides=2, padding='same', name='encoder_1', input_shape=input_shape))\n",
        "  model.add(BatchNormalization())\n",
        "  model.add(LeakyReLU())\n",
        "  \n",
        "  model.add(Conv2D(filters[1], (5, 5), strides=2, padding='same', name='encoder_2'))\n",
        "  model.add(BatchNormalization())\n",
        "  model.add(LeakyReLU())\n",
        "  \n",
        "  model.add(Conv2D(filters[2], (3, 3), strides=2, padding=padding, name='encoder_3'))\n",
        "  model.add(BatchNormalization())\n",
        "  model.add(LeakyReLU())\n",
        "  reshape = model.output_shape\n",
        "  \n",
        "  model.add(Flatten())\n",
        "  model.add(Dense(filters[3]))\n",
        "  model.add(BatchNormalization())\n",
        "  model.add(LeakyReLU())\n",
        "  model.add(ActivityRegularization(l1=10e-6, name='embedding'))\n",
        "  \n",
        "  model.add(Dense(filters[2]*reshape[1]*reshape[1], activation='relu'))\n",
        "  model.add(BatchNormalization())\n",
        "  model.add(LeakyReLU())\n",
        "  model.add(Reshape((reshape[1],reshape[1], filters[2])))\n",
        "  \n",
        "  model.add(Conv2DTranspose(filters[1], (3, 3), strides=2, padding=padding, name='decoder_3'))\n",
        "  model.add(BatchNormalization())\n",
        "  model.add(LeakyReLU())\n",
        "\n",
        "  model.add(Conv2DTranspose(filters[0], (5, 5), strides=2, padding='same', name='decoder_2'))\n",
        "  model.add(BatchNormalization())\n",
        "  model.add(LeakyReLU())\n",
        "\n",
        "  model.add(Conv2DTranspose(input_shape[2], (5, 5), strides=2, padding='same', activation='sigmoid', name='decoder_1'))\n",
        "  # model.summary()\n",
        "  return model"
      ],
      "execution_count": null,
      "outputs": []
    },
    {
      "cell_type": "markdown",
      "metadata": {
        "id": "VgQTtxHxNOl4"
      },
      "source": [
        "## Training our AutoEncoders for MNIST"
      ]
    },
    {
      "cell_type": "code",
      "metadata": {
        "id": "oP65fD2eLpCO"
      },
      "source": [
        "MNIST_SimpleAE = SimpleAE(input_shape=(28, 28, 1), filters=[64, 16])"
      ],
      "execution_count": null,
      "outputs": []
    },
    {
      "cell_type": "code",
      "metadata": {
        "colab": {
          "base_uri": "https://localhost:8080/"
        },
        "id": "GPx-yo8iOgx-",
        "outputId": "dc5ac21f-5caf-4175-bb5a-878ab8bd106e"
      },
      "source": [
        "MNIST_SimpleAE.compile(optimizer='adam', loss='mse')\n",
        "MNIST_SimpleAE_his = MNIST_SimpleAE.fit(MNIST_x, MNIST_x, batch_size=32, epochs=20)"
      ],
      "execution_count": null,
      "outputs": [
        {
          "output_type": "stream",
          "name": "stdout",
          "text": [
            "Epoch 1/20\n",
            "2188/2188 [==============================] - 8s 3ms/step - loss: 0.0359\n",
            "Epoch 2/20\n",
            "2188/2188 [==============================] - 7s 3ms/step - loss: 0.0230\n",
            "Epoch 3/20\n",
            "2188/2188 [==============================] - 7s 3ms/step - loss: 0.0219\n",
            "Epoch 4/20\n",
            "2188/2188 [==============================] - 7s 3ms/step - loss: 0.0213\n",
            "Epoch 5/20\n",
            "2188/2188 [==============================] - 7s 3ms/step - loss: 0.0209\n",
            "Epoch 6/20\n",
            "2188/2188 [==============================] - 7s 3ms/step - loss: 0.0206\n",
            "Epoch 7/20\n",
            "2188/2188 [==============================] - 7s 3ms/step - loss: 0.0204\n",
            "Epoch 8/20\n",
            "2188/2188 [==============================] - 7s 3ms/step - loss: 0.0201\n",
            "Epoch 9/20\n",
            "2188/2188 [==============================] - 7s 3ms/step - loss: 0.0199\n",
            "Epoch 10/20\n",
            "2188/2188 [==============================] - 7s 3ms/step - loss: 0.0197\n",
            "Epoch 11/20\n",
            "2188/2188 [==============================] - 7s 3ms/step - loss: 0.0196\n",
            "Epoch 12/20\n",
            "2188/2188 [==============================] - 7s 3ms/step - loss: 0.0195\n",
            "Epoch 13/20\n",
            "2188/2188 [==============================] - 7s 3ms/step - loss: 0.0194\n",
            "Epoch 14/20\n",
            "2188/2188 [==============================] - 7s 3ms/step - loss: 0.0193\n",
            "Epoch 15/20\n",
            "2188/2188 [==============================] - 7s 3ms/step - loss: 0.0192\n",
            "Epoch 16/20\n",
            "2188/2188 [==============================] - 7s 3ms/step - loss: 0.0192\n",
            "Epoch 17/20\n",
            "2188/2188 [==============================] - 7s 3ms/step - loss: 0.0191\n",
            "Epoch 18/20\n",
            "2188/2188 [==============================] - 7s 3ms/step - loss: 0.0190\n",
            "Epoch 19/20\n",
            "2188/2188 [==============================] - 7s 3ms/step - loss: 0.0190\n",
            "Epoch 20/20\n",
            "2188/2188 [==============================] - 7s 3ms/step - loss: 0.0189\n"
          ]
        }
      ]
    },
    {
      "cell_type": "code",
      "metadata": {
        "id": "Hn0ShSa1dJck"
      },
      "source": [
        "MNIST_px = MNIST_SimpleAE.predict(MNIST_x[200:])"
      ],
      "execution_count": null,
      "outputs": []
    },
    {
      "cell_type": "code",
      "metadata": {
        "colab": {
          "base_uri": "https://localhost:8080/",
          "height": 181
        },
        "id": "vJkqFSyZdXWS",
        "outputId": "5951820f-99ad-405b-b96e-f31a8e7a5347"
      },
      "source": [
        "Compare_Images(MNIST_x[200:], MNIST_px)"
      ],
      "execution_count": null,
      "outputs": [
        {
          "output_type": "display_data",
          "data": {
            "image/png": "[encoded data removed]",
            "text/plain": [
              "<Figure size 432x288 with 20 Axes>"
            ]
          },
          "metadata": {
            "needs_background": "light"
          }
        }
      ]
    },
    {
      "cell_type": "code",
      "metadata": {
        "colab": {
          "base_uri": "https://localhost:8080/"
        },
        "id": "vXXQlFESPWfZ",
        "outputId": "dfe36304-140f-4a5f-808b-4cb0369c0df8"
      },
      "source": [
        "MNIST_SimpleAE_plus = SimpleAE_plus(input_shape=(28, 28, 1), filters=[64, 16])\n",
        "MNIST_SimpleAE_plus.compile(optimizer='adam', loss='mse')\n",
        "MNIST_SimpleAE_plus_his = MNIST_SimpleAE_plus.fit(MNIST_x, MNIST_x, batch_size=32, epochs=20)"
      ],
      "execution_count": null,
      "outputs": [
        {
          "output_type": "stream",
          "name": "stdout",
          "text": [
            "Epoch 1/20\n",
            "2188/2188 [==============================] - 56s 5ms/step - loss: 0.0434\n",
            "Epoch 2/20\n",
            "2188/2188 [==============================] - 11s 5ms/step - loss: 0.0253\n",
            "Epoch 3/20\n",
            "2188/2188 [==============================] - 11s 5ms/step - loss: 0.0240\n",
            "Epoch 4/20\n",
            "2188/2188 [==============================] - 11s 5ms/step - loss: 0.0235\n",
            "Epoch 5/20\n",
            "2188/2188 [==============================] - 11s 5ms/step - loss: 0.0232\n",
            "Epoch 6/20\n",
            "2188/2188 [==============================] - 12s 5ms/step - loss: 0.0230\n",
            "Epoch 7/20\n",
            "2188/2188 [==============================] - 11s 5ms/step - loss: 0.0227\n",
            "Epoch 8/20\n",
            "2188/2188 [==============================] - 11s 5ms/step - loss: 0.0225\n",
            "Epoch 9/20\n",
            "2188/2188 [==============================] - 12s 5ms/step - loss: 0.0223\n",
            "Epoch 10/20\n",
            "2188/2188 [==============================] - 11s 5ms/step - loss: 0.0222\n",
            "Epoch 11/20\n",
            "2188/2188 [==============================] - 11s 5ms/step - loss: 0.0221\n",
            "Epoch 12/20\n",
            "2188/2188 [==============================] - 11s 5ms/step - loss: 0.0219\n",
            "Epoch 13/20\n",
            "2188/2188 [==============================] - 11s 5ms/step - loss: 0.0218\n",
            "Epoch 14/20\n",
            "2188/2188 [==============================] - 11s 5ms/step - loss: 0.0217\n",
            "Epoch 15/20\n",
            "2188/2188 [==============================] - 11s 5ms/step - loss: 0.0216\n",
            "Epoch 16/20\n",
            "2188/2188 [==============================] - 11s 5ms/step - loss: 0.0216\n",
            "Epoch 17/20\n",
            "2188/2188 [==============================] - 11s 5ms/step - loss: 0.0216\n",
            "Epoch 18/20\n",
            "2188/2188 [==============================] - 11s 5ms/step - loss: 0.0214\n",
            "Epoch 19/20\n",
            "2188/2188 [==============================] - 11s 5ms/step - loss: 0.0214\n",
            "Epoch 20/20\n",
            "2188/2188 [==============================] - 11s 5ms/step - loss: 0.0214\n"
          ]
        }
      ]
    },
    {
      "cell_type": "code",
      "metadata": {
        "colab": {
          "base_uri": "https://localhost:8080/",
          "height": 181
        },
        "id": "_nerp5neff2t",
        "outputId": "1cb8abd1-ae72-456c-cab6-35108dd69d50"
      },
      "source": [
        "MNIST_px2 = MNIST_SimpleAE.predict(MNIST_x[200:])\n",
        "Compare_Images(MNIST_x[200:], MNIST_px2)"
      ],
      "execution_count": null,
      "outputs": [
        {
          "output_type": "display_data",
          "data": {
            "image/png": "[encoded data removed]",
            "text/plain": [
              "<Figure size 432x288 with 20 Axes>"
            ]
          },
          "metadata": {
            "needs_background": "light"
          }
        }
      ]
    },
    {
      "cell_type": "code",
      "metadata": {
        "colab": {
          "base_uri": "https://localhost:8080/",
          "height": 924
        },
        "id": "njk2Na0miCHL",
        "outputId": "af433a85-c81f-4347-dbf8-d54a28130ba2"
      },
      "source": [
        "MNIST_ConvAE = ConvAE(input_shape=(28, 28, 1), filters=[32, 64, 16])\n",
        "MNIST_ConvAE.compile(optimizer='adam', loss='mse')\n",
        "MNIST_ConvAE_his = MNIST_ConvAE.fit(MNIST_x, MNIST_x, batch_size=32, epochs=20)\n",
        "MNIST_px3 = MNIST_ConvAE.predict(MNIST_x[200:])\n",
        "Compare_Images(MNIST_x[200:], MNIST_px3)"
      ],
      "execution_count": null,
      "outputs": [
        {
          "output_type": "stream",
          "name": "stdout",
          "text": [
            "Epoch 1/20\n",
            "2188/2188 [==============================] - 15s 7ms/step - loss: 0.0267\n",
            "Epoch 2/20\n",
            "2188/2188 [==============================] - 15s 7ms/step - loss: 0.0133\n",
            "Epoch 3/20\n",
            "2188/2188 [==============================] - 15s 7ms/step - loss: 0.0118\n",
            "Epoch 4/20\n",
            "2188/2188 [==============================] - 15s 7ms/step - loss: 0.0110\n",
            "Epoch 5/20\n",
            "2188/2188 [==============================] - 15s 7ms/step - loss: 0.0105\n",
            "Epoch 6/20\n",
            "2188/2188 [==============================] - 15s 7ms/step - loss: 0.0102\n",
            "Epoch 7/20\n",
            "2188/2188 [==============================] - 15s 7ms/step - loss: 0.0099\n",
            "Epoch 8/20\n",
            "2188/2188 [==============================] - 15s 7ms/step - loss: 0.0097\n",
            "Epoch 9/20\n",
            "2188/2188 [==============================] - 15s 7ms/step - loss: 0.0095\n",
            "Epoch 10/20\n",
            "2188/2188 [==============================] - 15s 7ms/step - loss: 0.0094\n",
            "Epoch 11/20\n",
            "2188/2188 [==============================] - 15s 7ms/step - loss: 0.0093\n",
            "Epoch 12/20\n",
            "2188/2188 [==============================] - 15s 7ms/step - loss: 0.0092\n",
            "Epoch 13/20\n",
            "2188/2188 [==============================] - 15s 7ms/step - loss: 0.0091\n",
            "Epoch 14/20\n",
            "2188/2188 [==============================] - 15s 7ms/step - loss: 0.0090\n",
            "Epoch 15/20\n",
            "2188/2188 [==============================] - 15s 7ms/step - loss: 0.0089\n",
            "Epoch 16/20\n",
            "2188/2188 [==============================] - 15s 7ms/step - loss: 0.0089\n",
            "Epoch 17/20\n",
            "2188/2188 [==============================] - 15s 7ms/step - loss: 0.0088\n",
            "Epoch 18/20\n",
            "2188/2188 [==============================] - 15s 7ms/step - loss: 0.0087\n",
            "Epoch 19/20\n",
            "2188/2188 [==============================] - 15s 7ms/step - loss: 0.0087\n",
            "Epoch 20/20\n",
            "2188/2188 [==============================] - 15s 7ms/step - loss: 0.0086\n"
          ]
        },
        {
          "output_type": "display_data",
          "data": {
            "image/png": "[encoded data removed]",
            "text/plain": [
              "<Figure size 432x288 with 20 Axes>"
            ]
          },
          "metadata": {
            "needs_background": "light"
          }
        }
      ]
    },
    {
      "cell_type": "code",
      "metadata": {
        "colab": {
          "base_uri": "https://localhost:8080/",
          "height": 924
        },
        "id": "D3J169qviiqX",
        "outputId": "e88eaa41-e690-41a9-cee8-2a6bc081c18f"
      },
      "source": [
        "MNIST_ConvAE_plus = ConvAE_plus(input_shape=(28, 28, 1), filters=[32, 64, 16])\n",
        "MNIST_ConvAE_plus.compile(optimizer='adam', loss='mse')\n",
        "MNIST_ConvAE_plus_his = MNIST_ConvAE_plus.fit(MNIST_x, MNIST_x, batch_size=32, epochs=20)\n",
        "MNIST_px4 = MNIST_ConvAE_plus.predict(MNIST_x[200:])\n",
        "Compare_Images(MNIST_x[200:], MNIST_px4)"
      ],
      "execution_count": null,
      "outputs": [
        {
          "output_type": "stream",
          "name": "stdout",
          "text": [
            "Epoch 1/20\n",
            "2188/2188 [==============================] - 21s 9ms/step - loss: 0.0241\n",
            "Epoch 2/20\n",
            "2188/2188 [==============================] - 20s 9ms/step - loss: 0.0163\n",
            "Epoch 3/20\n",
            "2188/2188 [==============================] - 20s 9ms/step - loss: 0.0152\n",
            "Epoch 4/20\n",
            "2188/2188 [==============================] - 20s 9ms/step - loss: 0.0146\n",
            "Epoch 5/20\n",
            "2188/2188 [==============================] - 20s 9ms/step - loss: 0.0142\n",
            "Epoch 6/20\n",
            "2188/2188 [==============================] - 20s 9ms/step - loss: 0.0139\n",
            "Epoch 7/20\n",
            "2188/2188 [==============================] - 20s 9ms/step - loss: 0.0136\n",
            "Epoch 8/20\n",
            "2188/2188 [==============================] - 20s 9ms/step - loss: 0.0134\n",
            "Epoch 9/20\n",
            "2188/2188 [==============================] - 19s 9ms/step - loss: 0.0132\n",
            "Epoch 10/20\n",
            "2188/2188 [==============================] - 19s 9ms/step - loss: 0.0130\n",
            "Epoch 11/20\n",
            "2188/2188 [==============================] - 19s 9ms/step - loss: 0.0129\n",
            "Epoch 12/20\n",
            "2188/2188 [==============================] - 20s 9ms/step - loss: 0.0128\n",
            "Epoch 13/20\n",
            "2188/2188 [==============================] - 19s 9ms/step - loss: 0.0127\n",
            "Epoch 14/20\n",
            "2188/2188 [==============================] - 19s 9ms/step - loss: 0.0126\n",
            "Epoch 15/20\n",
            "2188/2188 [==============================] - 19s 9ms/step - loss: 0.0125\n",
            "Epoch 16/20\n",
            "2188/2188 [==============================] - 20s 9ms/step - loss: 0.0124\n",
            "Epoch 17/20\n",
            "2188/2188 [==============================] - 19s 9ms/step - loss: 0.0124\n",
            "Epoch 18/20\n",
            "2188/2188 [==============================] - 20s 9ms/step - loss: 0.0123\n",
            "Epoch 19/20\n",
            "2188/2188 [==============================] - 19s 9ms/step - loss: 0.0122\n",
            "Epoch 20/20\n",
            "2188/2188 [==============================] - 19s 9ms/step - loss: 0.0122\n"
          ]
        },
        {
          "output_type": "display_data",
          "data": {
            "image/png": "[encoded data removed]",
            "text/plain": [
              "<Figure size 432x288 with 20 Axes>"
            ]
          },
          "metadata": {
            "needs_background": "light"
          }
        }
      ]
    },
    {
      "cell_type": "code",
      "metadata": {
        "id": "bh6ABpLBi5-K",
        "colab": {
          "base_uri": "https://localhost:8080/",
          "height": 933
        },
        "outputId": "1ba1bb29-f4cc-43f3-8fb8-1aef88c3a002"
      },
      "source": [
        "MNIST_DeepConvAE = DeepConvAE(input_shape=(28, 28, 1), filters=[32, 64, 128, 16])\n",
        "MNIST_DeepConvAE.compile(optimizer='adam', loss='mse')\n",
        "MNIST_DeepConvAE_his = MNIST_DeepConvAE.fit(MNIST_x, MNIST_x, batch_size=32, epochs=20)\n",
        "MNIST_px5 = MNIST_DeepConvAE.predict(MNIST_x[200:])\n",
        "Compare_Images(MNIST_x[200:], MNIST_px5)"
      ],
      "execution_count": null,
      "outputs": [
        {
          "output_type": "stream",
          "name": "stdout",
          "text": [
            "Epoch 1/20\n",
            "2188/2188 [==============================] - 22s 10ms/step - loss: 0.1129\n",
            "Epoch 2/20\n",
            "2188/2188 [==============================] - 21s 10ms/step - loss: 0.1123\n",
            "Epoch 3/20\n",
            "2188/2188 [==============================] - 21s 10ms/step - loss: 0.1123\n",
            "Epoch 4/20\n",
            "2188/2188 [==============================] - 22s 10ms/step - loss: 0.1123\n",
            "Epoch 5/20\n",
            "2188/2188 [==============================] - 22s 10ms/step - loss: 0.1123\n",
            "Epoch 6/20\n",
            "2188/2188 [==============================] - 21s 10ms/step - loss: 0.1123\n",
            "Epoch 7/20\n",
            "2188/2188 [==============================] - 22s 10ms/step - loss: 0.1123\n",
            "Epoch 8/20\n",
            "2188/2188 [==============================] - 21s 10ms/step - loss: 0.1123\n",
            "Epoch 9/20\n",
            "2188/2188 [==============================] - 21s 10ms/step - loss: 0.1123\n",
            "Epoch 10/20\n",
            "2188/2188 [==============================] - 21s 10ms/step - loss: 0.1123\n",
            "Epoch 11/20\n",
            "2188/2188 [==============================] - 21s 10ms/step - loss: 0.1123\n",
            "Epoch 12/20\n",
            "2188/2188 [==============================] - 21s 10ms/step - loss: 0.1123\n",
            "Epoch 13/20\n",
            "2188/2188 [==============================] - 21s 10ms/step - loss: 0.1123\n",
            "Epoch 14/20\n",
            "2188/2188 [==============================] - 22s 10ms/step - loss: 0.1123\n",
            "Epoch 15/20\n",
            "2188/2188 [==============================] - 21s 10ms/step - loss: 0.1123\n",
            "Epoch 16/20\n",
            "2188/2188 [==============================] - 21s 10ms/step - loss: 0.1123\n",
            "Epoch 17/20\n",
            "2188/2188 [==============================] - 21s 10ms/step - loss: 0.1123\n",
            "Epoch 18/20\n",
            "2188/2188 [==============================] - 21s 10ms/step - loss: 0.1123\n",
            "Epoch 19/20\n",
            "2188/2188 [==============================] - 21s 10ms/step - loss: 0.1123\n",
            "Epoch 20/20\n",
            "2188/2188 [==============================] - 21s 10ms/step - loss: 0.1123\n"
          ]
        },
        {
          "output_type": "display_data",
          "data": {
            "image/png": "[encoded data removed]",
            "text/plain": [
              "<Figure size 432x288 with 20 Axes>"
            ]
          },
          "metadata": {}
        }
      ]
    },
    {
      "cell_type": "code",
      "metadata": {
        "id": "xN-iw50Pis3V",
        "colab": {
          "base_uri": "https://localhost:8080/",
          "height": 933
        },
        "outputId": "e8745ebf-1129-4d4a-84df-95de9be58bdb"
      },
      "source": [
        "MNIST_DeepConvAE_plus = DeepConvAE_plus(input_shape=(28, 28, 1), filters=[32, 64, 128, 16])\n",
        "MNIST_DeepConvAE_plus.compile(optimizer='adam', loss='mse')\n",
        "MNIST_DeepConvAE_plus_his = MNIST_DeepConvAE_plus.fit(MNIST_x, MNIST_x, batch_size=32, epochs=20)\n",
        "MNIST_px6 = MNIST_DeepConvAE_plus.predict(MNIST_x[200:])\n",
        "Compare_Images(MNIST_x[200:], MNIST_px6)"
      ],
      "execution_count": null,
      "outputs": [
        {
          "output_type": "stream",
          "name": "stdout",
          "text": [
            "Epoch 1/20\n",
            "2188/2188 [==============================] - 27s 12ms/step - loss: 0.0198\n",
            "Epoch 2/20\n",
            "2188/2188 [==============================] - 26s 12ms/step - loss: 0.0146\n",
            "Epoch 3/20\n",
            "2188/2188 [==============================] - 26s 12ms/step - loss: 0.0135\n",
            "Epoch 4/20\n",
            "2188/2188 [==============================] - 26s 12ms/step - loss: 0.0129\n",
            "Epoch 5/20\n",
            "2188/2188 [==============================] - 26s 12ms/step - loss: 0.0124\n",
            "Epoch 6/20\n",
            "2188/2188 [==============================] - 26s 12ms/step - loss: 0.0121\n",
            "Epoch 7/20\n",
            "2188/2188 [==============================] - 26s 12ms/step - loss: 0.0118\n",
            "Epoch 8/20\n",
            "2188/2188 [==============================] - 26s 12ms/step - loss: 0.0115\n",
            "Epoch 9/20\n",
            "2188/2188 [==============================] - 26s 12ms/step - loss: 0.0113\n",
            "Epoch 10/20\n",
            "2188/2188 [==============================] - 26s 12ms/step - loss: 0.0111\n",
            "Epoch 11/20\n",
            "2188/2188 [==============================] - 28s 13ms/step - loss: 0.0109\n",
            "Epoch 12/20\n",
            "2188/2188 [==============================] - 28s 13ms/step - loss: 0.0108\n",
            "Epoch 13/20\n",
            "2188/2188 [==============================] - 28s 13ms/step - loss: 0.0106\n",
            "Epoch 14/20\n",
            "2188/2188 [==============================] - 28s 13ms/step - loss: 0.0105\n",
            "Epoch 15/20\n",
            "2188/2188 [==============================] - 28s 13ms/step - loss: 0.0104\n",
            "Epoch 16/20\n",
            "2188/2188 [==============================] - 28s 13ms/step - loss: 0.0103\n",
            "Epoch 17/20\n",
            "2188/2188 [==============================] - 28s 13ms/step - loss: 0.0102\n",
            "Epoch 18/20\n",
            "2188/2188 [==============================] - 28s 13ms/step - loss: 0.0101\n",
            "Epoch 19/20\n",
            "2188/2188 [==============================] - 28s 13ms/step - loss: 0.0100\n",
            "Epoch 20/20\n",
            "2188/2188 [==============================] - 28s 13ms/step - loss: 0.0099\n"
          ]
        },
        {
          "output_type": "display_data",
          "data": {
            "image/png": "[encoded data removed]",
            "text/plain": [
              "<Figure size 432x288 with 20 Axes>"
            ]
          },
          "metadata": {}
        }
      ]
    },
    {
      "cell_type": "code",
      "metadata": {
        "id": "BkBWfTBWpsKr"
      },
      "source": [
        "MNIST_kmeans_1 = KMeans(n_clusters=10, init='k-means++') # SimpleAE\n",
        "MNIST_kmeans_2 = KMeans(n_clusters=10, init='k-means++') # SimpleAE_plus\n",
        "MNIST_kmeans_3 = KMeans(n_clusters=10, init='k-means++') # ConvAE\n",
        "MNIST_kmeans_4 = KMeans(n_clusters=10, init='k-means++') # ConvAE_plus\n",
        "MNIST_kmeans_5 = KMeans(n_clusters=10, init='k-means++') # DeepConvAE\n",
        "MNIST_kmeans_6 = KMeans(n_clusters=10, init='k-means++') # DeepConvAE_plus"
      ],
      "execution_count": null,
      "outputs": []
    },
    {
      "cell_type": "code",
      "metadata": {
        "id": "sQcP2VK-qC_-"
      },
      "source": [
        "# extract features\n",
        "MNIST_SimpleAE_features = Model(inputs=MNIST_SimpleAE.input, outputs=MNIST_SimpleAE.get_layer(name='embedding').output).predict(MNIST_x)\n",
        "MNIST_SimpleAE_plus_features = Model(inputs=MNIST_SimpleAE_plus.input, outputs=MNIST_SimpleAE_plus.get_layer(name='embedding').output).predict(MNIST_x)\n",
        "MNIST_ConvAE_features = Model(inputs=MNIST_ConvAE.input, outputs=MNIST_ConvAE.get_layer(name='embedding').output).predict(MNIST_x)\n",
        "MNIST_ConvAE_plus_features = Model(inputs=MNIST_ConvAE_plus.input, outputs=MNIST_ConvAE_plus.get_layer(name='embedding').output).predict(MNIST_x)\n",
        "MNIST_DeepConvAE_features = Model(inputs=MNIST_DeepConvAE.input, outputs=MNIST_DeepConvAE.get_layer(name='embedding').output).predict(MNIST_x)\n",
        "MNIST_DeepConvAE_plus_features = Model(inputs=MNIST_DeepConvAE_plus.input, outputs=MNIST_DeepConvAE_plus.get_layer(name='embedding').output).predict(MNIST_x)"
      ],
      "execution_count": null,
      "outputs": []
    },
    {
      "cell_type": "code",
      "metadata": {
        "colab": {
          "base_uri": "https://localhost:8080/"
        },
        "id": "3gBlvRsTyUzs",
        "outputId": "e7017fa1-d396-403a-c664-74b18350e88f"
      },
      "source": [
        "MNIST_SimpleAE_features = np.reshape(MNIST_SimpleAE_features, newshape=(MNIST_SimpleAE_features.shape[0], -1))\n",
        "MNIST_SimpleAE_plus_features = np.reshape(MNIST_SimpleAE_plus_features, newshape=(MNIST_SimpleAE_plus_features.shape[0], -1))\n",
        "MNIST_ConvAE_features = np.reshape(MNIST_ConvAE_features, newshape=(MNIST_ConvAE_features.shape[0], -1))\n",
        "MNIST_ConvAE_plus_features = np.reshape(MNIST_ConvAE_plus_features, newshape=(MNIST_ConvAE_plus_features.shape[0], -1))\n",
        "MNIST_DeepConvAE_features = np.reshape(MNIST_DeepConvAE_features, newshape=(MNIST_DeepConvAE_features.shape[0], -1))\n",
        "MNIST_DeepConvAE_plus_features = np.reshape(MNIST_DeepConvAE_plus_features, newshape=(MNIST_DeepConvAE_plus_features.shape[0], -1))\n",
        "\n",
        "print('MNIST_SimpleAE_features shape=', MNIST_SimpleAE_features.shape)\n",
        "print('MNIST_SimpleAE_plus_features shape=', MNIST_SimpleAE_plus_features.shape)\n",
        "print('MNIST_ConvAE_features shape=', MNIST_ConvAE_features.shape)\n",
        "print('MNIST_ConvAE_plus_features shape=', MNIST_ConvAE_plus_features.shape)\n",
        "print('MNIST_DeepConvAE_features shape=', MNIST_DeepConvAE_features.shape)\n",
        "print('MNIST_DeepConvAE_plus_features shape=', MNIST_DeepConvAE_plus_features.shape)"
      ],
      "execution_count": null,
      "outputs": [
        {
          "output_type": "stream",
          "name": "stdout",
          "text": [
            "MNIST_SimpleAE_features shape= (70000, 16)\n",
            "MNIST_SimpleAE_plus_features shape= (70000, 16)\n",
            "MNIST_ConvAE_features shape= (70000, 16)\n",
            "MNIST_ConvAE_plus_features shape= (70000, 16)\n",
            "MNIST_DeepConvAE_features shape= (70000, 16)\n",
            "MNIST_DeepConvAE_plus_features shape= (70000, 16)\n"
          ]
        }
      ]
    },
    {
      "cell_type": "code",
      "metadata": {
        "id": "yxmQ2H2Ft856"
      },
      "source": [
        "# Learning & Predict from the Data\n",
        "MNIST_SimpleAE_y = MNIST_kmeans_1.fit_predict(MNIST_SimpleAE_features)\n",
        "MNIST_SimpleAE_plus_y = MNIST_kmeans_2.fit_predict(MNIST_SimpleAE_plus_features)\n",
        "MNIST_ConvAE_y = MNIST_kmeans_3.fit_predict(MNIST_ConvAE_features)\n",
        "MNIST_ConvAE_plus_y = MNIST_kmeans_4.fit_predict(MNIST_ConvAE_plus_features)\n",
        "MNIST_DeepConvAE_y = MNIST_kmeans_5.fit_predict(MNIST_DeepConvAE_features)\n",
        "MNIST_DeepConvAE_plus_y = MNIST_kmeans_6.fit_predict(MNIST_DeepConvAE_plus_features)"
      ],
      "execution_count": null,
      "outputs": []
    },
    {
      "cell_type": "code",
      "metadata": {
        "colab": {
          "base_uri": "https://localhost:8080/"
        },
        "id": "d4ijwqwCvTpS",
        "outputId": "61c65077-11ff-4e2c-cc66-9eba32eedb57"
      },
      "source": [
        "# Evaluations\n",
        "print(\"ARI score of MNIST_SimpleAE: \",ari(MNIST_y, MNIST_SimpleAE_y))\n",
        "print(\"NMI score of MNIST_SimpleAE: \",nmi(MNIST_y, MNIST_SimpleAE_y))\n",
        "\n",
        "print(\"ARI score of MNIST_SimpleAE_plus: \",ari(MNIST_y, MNIST_SimpleAE_plus_y))\n",
        "print(\"NMI score of MNIST_SimpleAE_plus: \",nmi(MNIST_y, MNIST_SimpleAE_plus_y))\n",
        "\n",
        "print(\"ARI score of MNIST_ConvAE: \",ari(MNIST_y, MNIST_ConvAE_y))\n",
        "print(\"NMI score of MNIST_ConvAE: \",nmi(MNIST_y, MNIST_ConvAE_y))\n",
        "\n",
        "print(\"ARI score of MNIST_ConvAE_plus: \",ari(MNIST_y, MNIST_ConvAE_plus_y))\n",
        "print(\"NMI score of MNIST_ConvAE_plus: \",nmi(MNIST_y, MNIST_ConvAE_plus_y))\n",
        "\n",
        "print(\"ARI score of MNIST_DeepConvAE: \",ari(MNIST_y, MNIST_DeepConvAE_y))\n",
        "print(\"NMI score of MNIST_DeepConvAE: \",nmi(MNIST_y, MNIST_DeepConvAE_y))\n"
      ],
      "execution_count": null,
      "outputs": [
        {
          "output_type": "stream",
          "name": "stdout",
          "text": [
            "ARI score of MNIST_SimpleAE:  0.21558007667789464\n",
            "NMI score of MNIST_SimpleAE:  0.3883656394207085\n",
            "ARI score of MNIST_SimpleAE_plus:  0.29123076594331315\n",
            "NMI score of MNIST_SimpleAE_plus:  0.4440685399490197\n",
            "ARI score of MNIST_ConvAE:  0.599721514909041\n",
            "NMI score of MNIST_ConvAE:  0.6662318112317408\n",
            "ARI score of MNIST_ConvAE_plus:  0.43610740536674064\n",
            "NMI score of MNIST_ConvAE_plus:  0.5602328446464202\n",
            "ARI score of MNIST_DeepConvAE:  0.04203155621438435\n",
            "NMI score of MNIST_DeepConvAE:  0.09364888190912957\n"
          ]
        }
      ]
    },
    {
      "cell_type": "markdown",
      "metadata": {
        "id": "y90FddBfzV0I"
      },
      "source": [
        "## Training our AutoEncoders for Fashion MNIST"
      ]
    },
    {
      "cell_type": "code",
      "metadata": {
        "colab": {
          "base_uri": "https://localhost:8080/",
          "height": 933
        },
        "id": "c6y1G0DVz0TU",
        "outputId": "14a02ebd-135d-4b40-ee1a-324ef565544b"
      },
      "source": [
        "Fashion_SimpleAE = SimpleAE(input_shape=(28, 28, 1), filters=[64, 16])\n",
        "Fashion_SimpleAE.compile(optimizer='adam', loss='mse')\n",
        "Fashion_SimpleAE_his = Fashion_SimpleAE.fit(Fashion_x, Fashion_x, batch_size=32, epochs=20)\n",
        "Fashion_px = Fashion_SimpleAE.predict(Fashion_x[200:])\n",
        "Compare_Images(Fashion_x[200:], Fashion_px)"
      ],
      "execution_count": null,
      "outputs": [
        {
          "output_type": "stream",
          "name": "stdout",
          "text": [
            "Epoch 1/20\n",
            "2188/2188 [==============================] - 8s 3ms/step - loss: 0.0294\n",
            "Epoch 2/20\n",
            "2188/2188 [==============================] - 7s 3ms/step - loss: 0.0187\n",
            "Epoch 3/20\n",
            "2188/2188 [==============================] - 7s 3ms/step - loss: 0.0171\n",
            "Epoch 4/20\n",
            "2188/2188 [==============================] - 7s 3ms/step - loss: 0.0165\n",
            "Epoch 5/20\n",
            "2188/2188 [==============================] - 7s 3ms/step - loss: 0.0161\n",
            "Epoch 6/20\n",
            "2188/2188 [==============================] - 7s 3ms/step - loss: 0.0159\n",
            "Epoch 7/20\n",
            "2188/2188 [==============================] - 7s 3ms/step - loss: 0.0157\n",
            "Epoch 8/20\n",
            "2188/2188 [==============================] - 7s 3ms/step - loss: 0.0156\n",
            "Epoch 9/20\n",
            "2188/2188 [==============================] - 8s 3ms/step - loss: 0.0155\n",
            "Epoch 10/20\n",
            "2188/2188 [==============================] - 8s 3ms/step - loss: 0.0154\n",
            "Epoch 11/20\n",
            "2188/2188 [==============================] - 7s 3ms/step - loss: 0.0153\n",
            "Epoch 12/20\n",
            "2188/2188 [==============================] - 7s 3ms/step - loss: 0.0153\n",
            "Epoch 13/20\n",
            "2188/2188 [==============================] - 7s 3ms/step - loss: 0.0152\n",
            "Epoch 14/20\n",
            "2188/2188 [==============================] - 8s 3ms/step - loss: 0.0152\n",
            "Epoch 15/20\n",
            "2188/2188 [==============================] - 7s 3ms/step - loss: 0.0151\n",
            "Epoch 16/20\n",
            "2188/2188 [==============================] - 7s 3ms/step - loss: 0.0151\n",
            "Epoch 17/20\n",
            "2188/2188 [==============================] - 7s 3ms/step - loss: 0.0151\n",
            "Epoch 18/20\n",
            "2188/2188 [==============================] - 7s 3ms/step - loss: 0.0151\n",
            "Epoch 19/20\n",
            "2188/2188 [==============================] - 7s 3ms/step - loss: 0.0150\n",
            "Epoch 20/20\n",
            "2188/2188 [==============================] - 7s 3ms/step - loss: 0.0150\n"
          ]
        },
        {
          "output_type": "display_data",
          "data": {
            "image/png": "[encoded data removed]",
            "text/plain": [
              "<Figure size 432x288 with 20 Axes>"
            ]
          },
          "metadata": {}
        }
      ]
    },
    {
      "cell_type": "code",
      "metadata": {
        "colab": {
          "base_uri": "https://localhost:8080/",
          "height": 933
        },
        "id": "U7jeftz1z8Rp",
        "outputId": "eef078d8-5205-46e8-c558-289486d025ea"
      },
      "source": [
        "Fashion_SimpleAE_plus = SimpleAE_plus(input_shape=(28, 28, 1), filters=[64, 16])\n",
        "Fashion_SimpleAE_plus.compile(optimizer='adam', loss='mse')\n",
        "Fashion_SimpleAE_plus_his = Fashion_SimpleAE_plus.fit(Fashion_x, Fashion_x, batch_size=32, epochs=20)\n",
        "Fashion_px2 = Fashion_SimpleAE.predict(Fashion_x[200:])\n",
        "Compare_Images(Fashion_x[200:], Fashion_px2)"
      ],
      "execution_count": null,
      "outputs": [
        {
          "output_type": "stream",
          "name": "stdout",
          "text": [
            "Epoch 1/20\n",
            "2188/2188 [==============================] - 13s 5ms/step - loss: 0.0336\n",
            "Epoch 2/20\n",
            "2188/2188 [==============================] - 12s 5ms/step - loss: 0.0209\n",
            "Epoch 3/20\n",
            "2188/2188 [==============================] - 11s 5ms/step - loss: 0.0199\n",
            "Epoch 4/20\n",
            "2188/2188 [==============================] - 12s 5ms/step - loss: 0.0193\n",
            "Epoch 5/20\n",
            "2188/2188 [==============================] - 11s 5ms/step - loss: 0.0190\n",
            "Epoch 6/20\n",
            "2188/2188 [==============================] - 11s 5ms/step - loss: 0.0187\n",
            "Epoch 7/20\n",
            "2188/2188 [==============================] - 12s 5ms/step - loss: 0.0185\n",
            "Epoch 8/20\n",
            "2188/2188 [==============================] - 11s 5ms/step - loss: 0.0183\n",
            "Epoch 9/20\n",
            "2188/2188 [==============================] - 12s 5ms/step - loss: 0.0182\n",
            "Epoch 10/20\n",
            "2188/2188 [==============================] - 12s 5ms/step - loss: 0.0181\n",
            "Epoch 11/20\n",
            "2188/2188 [==============================] - 11s 5ms/step - loss: 0.0180\n",
            "Epoch 12/20\n",
            "2188/2188 [==============================] - 11s 5ms/step - loss: 0.0179\n",
            "Epoch 13/20\n",
            "2188/2188 [==============================] - 11s 5ms/step - loss: 0.0179\n",
            "Epoch 14/20\n",
            "2188/2188 [==============================] - 11s 5ms/step - loss: 0.0178\n",
            "Epoch 15/20\n",
            "2188/2188 [==============================] - 11s 5ms/step - loss: 0.0178\n",
            "Epoch 16/20\n",
            "2188/2188 [==============================] - 11s 5ms/step - loss: 0.0177\n",
            "Epoch 17/20\n",
            "2188/2188 [==============================] - 11s 5ms/step - loss: 0.0177\n",
            "Epoch 18/20\n",
            "2188/2188 [==============================] - 11s 5ms/step - loss: 0.0177\n",
            "Epoch 19/20\n",
            "2188/2188 [==============================] - 11s 5ms/step - loss: 0.0177\n",
            "Epoch 20/20\n",
            "2188/2188 [==============================] - 11s 5ms/step - loss: 0.0176\n"
          ]
        },
        {
          "output_type": "display_data",
          "data": {
            "image/png": "[encoded data removed]",
            "text/plain": [
              "<Figure size 432x288 with 20 Axes>"
            ]
          },
          "metadata": {}
        }
      ]
    },
    {
      "cell_type": "code",
      "metadata": {
        "colab": {
          "base_uri": "https://localhost:8080/",
          "height": 933
        },
        "id": "36lrfsjuz_mS",
        "outputId": "ba6c6861-18ec-4e57-d961-90dcc8321ab1"
      },
      "source": [
        "Fashion_ConvAE = ConvAE(input_shape=(28, 28, 1), filters=[32, 64, 16])\n",
        "Fashion_ConvAE.compile(optimizer='adam', loss='mse')\n",
        "Fashion_ConvAE_his = Fashion_ConvAE.fit(Fashion_x, Fashion_x, batch_size=32, epochs=20)\n",
        "Fashion_px3 = Fashion_ConvAE.predict(Fashion_x[200:])\n",
        "Compare_Images(Fashion_x[200:], Fashion_px3)"
      ],
      "execution_count": null,
      "outputs": [
        {
          "output_type": "stream",
          "name": "stdout",
          "text": [
            "Epoch 1/20\n",
            "2188/2188 [==============================] - 15s 7ms/step - loss: 0.0221\n",
            "Epoch 2/20\n",
            "2188/2188 [==============================] - 15s 7ms/step - loss: 0.0140\n",
            "Epoch 3/20\n",
            "2188/2188 [==============================] - 14s 7ms/step - loss: 0.0129\n",
            "Epoch 4/20\n",
            "2188/2188 [==============================] - 14s 7ms/step - loss: 0.0123\n",
            "Epoch 5/20\n",
            "2188/2188 [==============================] - 15s 7ms/step - loss: 0.0119\n",
            "Epoch 6/20\n",
            "2188/2188 [==============================] - 14s 7ms/step - loss: 0.0116\n",
            "Epoch 7/20\n",
            "2188/2188 [==============================] - 14s 7ms/step - loss: 0.0114\n",
            "Epoch 8/20\n",
            "2188/2188 [==============================] - 14s 7ms/step - loss: 0.0112\n",
            "Epoch 9/20\n",
            "2188/2188 [==============================] - 14s 7ms/step - loss: 0.0111\n",
            "Epoch 10/20\n",
            "2188/2188 [==============================] - 14s 7ms/step - loss: 0.0109\n",
            "Epoch 11/20\n",
            "2188/2188 [==============================] - 14s 7ms/step - loss: 0.0108\n",
            "Epoch 12/20\n",
            "2188/2188 [==============================] - 14s 7ms/step - loss: 0.0107\n",
            "Epoch 13/20\n",
            "2188/2188 [==============================] - 14s 7ms/step - loss: 0.0106\n",
            "Epoch 14/20\n",
            "2188/2188 [==============================] - 15s 7ms/step - loss: 0.0105\n",
            "Epoch 15/20\n",
            "2188/2188 [==============================] - 15s 7ms/step - loss: 0.0105\n",
            "Epoch 16/20\n",
            "2188/2188 [==============================] - 15s 7ms/step - loss: 0.0104\n",
            "Epoch 17/20\n",
            "2188/2188 [==============================] - 15s 7ms/step - loss: 0.0103\n",
            "Epoch 18/20\n",
            "2188/2188 [==============================] - 15s 7ms/step - loss: 0.0103\n",
            "Epoch 19/20\n",
            "2188/2188 [==============================] - 14s 7ms/step - loss: 0.0103\n",
            "Epoch 20/20\n",
            "2188/2188 [==============================] - 14s 7ms/step - loss: 0.0102\n"
          ]
        },
        {
          "output_type": "display_data",
          "data": {
            "image/png": "[encoded data removed]",
            "text/plain": [
              "<Figure size 432x288 with 20 Axes>"
            ]
          },
          "metadata": {}
        }
      ]
    },
    {
      "cell_type": "code",
      "metadata": {
        "colab": {
          "base_uri": "https://localhost:8080/",
          "height": 933
        },
        "id": "dDaDPGV90DXa",
        "outputId": "03c2fac8-5bc1-4df3-e9c9-831bf96be2c1"
      },
      "source": [
        "Fashion_ConvAE_plus = ConvAE_plus(input_shape=(28, 28, 1), filters=[32, 64, 16])\n",
        "Fashion_ConvAE_plus.compile(optimizer='adam', loss='mse')\n",
        "Fashion_ConvAE_plus_his = Fashion_ConvAE_plus.fit(Fashion_x, Fashion_x, batch_size=32, epochs=20)\n",
        "Fashion_px4 = Fashion_ConvAE_plus.predict(Fashion_x[200:])\n",
        "Compare_Images(Fashion_x[200:], Fashion_px4)"
      ],
      "execution_count": null,
      "outputs": [
        {
          "output_type": "stream",
          "name": "stdout",
          "text": [
            "Epoch 1/20\n",
            "2188/2188 [==============================] - 21s 9ms/step - loss: 0.0211\n",
            "Epoch 2/20\n",
            "2188/2188 [==============================] - 21s 9ms/step - loss: 0.0161\n",
            "Epoch 3/20\n",
            "2188/2188 [==============================] - 20s 9ms/step - loss: 0.0152\n",
            "Epoch 4/20\n",
            "2188/2188 [==============================] - 19s 9ms/step - loss: 0.0146\n",
            "Epoch 5/20\n",
            "2188/2188 [==============================] - 20s 9ms/step - loss: 0.0142\n",
            "Epoch 6/20\n",
            "2188/2188 [==============================] - 19s 9ms/step - loss: 0.0139\n",
            "Epoch 7/20\n",
            "2188/2188 [==============================] - 19s 9ms/step - loss: 0.0137\n",
            "Epoch 8/20\n",
            "2188/2188 [==============================] - 20s 9ms/step - loss: 0.0135\n",
            "Epoch 9/20\n",
            "2188/2188 [==============================] - 19s 9ms/step - loss: 0.0133\n",
            "Epoch 10/20\n",
            "2188/2188 [==============================] - 20s 9ms/step - loss: 0.0132\n",
            "Epoch 11/20\n",
            "2188/2188 [==============================] - 21s 9ms/step - loss: 0.0131\n",
            "Epoch 12/20\n",
            "2188/2188 [==============================] - 20s 9ms/step - loss: 0.0130\n",
            "Epoch 13/20\n",
            "2188/2188 [==============================] - 20s 9ms/step - loss: 0.0129\n",
            "Epoch 14/20\n",
            "2188/2188 [==============================] - 21s 9ms/step - loss: 0.0129\n",
            "Epoch 15/20\n",
            "2188/2188 [==============================] - 20s 9ms/step - loss: 0.0128\n",
            "Epoch 16/20\n",
            "2188/2188 [==============================] - 20s 9ms/step - loss: 0.0127\n",
            "Epoch 17/20\n",
            "2188/2188 [==============================] - 20s 9ms/step - loss: 0.0126\n",
            "Epoch 18/20\n",
            "2188/2188 [==============================] - 20s 9ms/step - loss: 0.0126\n",
            "Epoch 19/20\n",
            "2188/2188 [==============================] - 20s 9ms/step - loss: 0.0126\n",
            "Epoch 20/20\n",
            "2188/2188 [==============================] - 20s 9ms/step - loss: 0.0125\n"
          ]
        },
        {
          "output_type": "display_data",
          "data": {
            "image/png": "[encoded data removed]",
            "text/plain": [
              "<Figure size 432x288 with 20 Axes>"
            ]
          },
          "metadata": {}
        }
      ]
    },
    {
      "cell_type": "code",
      "metadata": {
        "id": "BxknDptJziV2",
        "colab": {
          "base_uri": "https://localhost:8080/",
          "height": 933
        },
        "outputId": "d7022287-56d7-4f4f-bb8b-a316f40e614f"
      },
      "source": [
        "Fashion_DeepConvAE = DeepConvAE(input_shape=(28, 28, 1), filters=[32, 64, 128, 16])\n",
        "Fashion_DeepConvAE.compile(optimizer='adam', loss='mse')\n",
        "Fashion_DeepConvAE_his = Fashion_DeepConvAE.fit(Fashion_x, Fashion_x, batch_size=32, epochs=20)\n",
        "Fashion_px5 = Fashion_DeepConvAE.predict(Fashion_x[200:])\n",
        "Compare_Images(Fashion_x[200:], Fashion_px5)"
      ],
      "execution_count": null,
      "outputs": [
        {
          "output_type": "stream",
          "name": "stdout",
          "text": [
            "Epoch 1/20\n",
            "2188/2188 [==============================] - 22s 10ms/step - loss: 0.0218\n",
            "Epoch 2/20\n",
            "2188/2188 [==============================] - 21s 10ms/step - loss: 0.0138\n",
            "Epoch 3/20\n",
            "2188/2188 [==============================] - 20s 9ms/step - loss: 0.0126\n",
            "Epoch 4/20\n",
            "2188/2188 [==============================] - 20s 9ms/step - loss: 0.0120\n",
            "Epoch 5/20\n",
            "2188/2188 [==============================] - 21s 9ms/step - loss: 0.0115\n",
            "Epoch 6/20\n",
            "2188/2188 [==============================] - 20s 9ms/step - loss: 0.0112\n",
            "Epoch 7/20\n",
            "2188/2188 [==============================] - 20s 9ms/step - loss: 0.0109\n",
            "Epoch 8/20\n",
            "2188/2188 [==============================] - 20s 9ms/step - loss: 0.0107\n",
            "Epoch 9/20\n",
            "2188/2188 [==============================] - 20s 9ms/step - loss: 0.0105\n",
            "Epoch 10/20\n",
            "2188/2188 [==============================] - 20s 9ms/step - loss: 0.0104\n",
            "Epoch 11/20\n",
            "2188/2188 [==============================] - 20s 9ms/step - loss: 0.0103\n",
            "Epoch 12/20\n",
            "2188/2188 [==============================] - 20s 9ms/step - loss: 0.0102\n",
            "Epoch 13/20\n",
            "2188/2188 [==============================] - 20s 9ms/step - loss: 0.0100\n",
            "Epoch 14/20\n",
            "2188/2188 [==============================] - 20s 9ms/step - loss: 0.0098\n",
            "Epoch 15/20\n",
            "2188/2188 [==============================] - 20s 9ms/step - loss: 0.0097\n",
            "Epoch 16/20\n",
            "2188/2188 [==============================] - 20s 9ms/step - loss: 0.0096\n",
            "Epoch 17/20\n",
            "2188/2188 [==============================] - 21s 9ms/step - loss: 0.0095\n",
            "Epoch 18/20\n",
            "2188/2188 [==============================] - 21s 9ms/step - loss: 0.0095\n",
            "Epoch 19/20\n",
            "2188/2188 [==============================] - 20s 9ms/step - loss: 0.0094\n",
            "Epoch 20/20\n",
            "2188/2188 [==============================] - 21s 9ms/step - loss: 0.0094\n"
          ]
        },
        {
          "output_type": "display_data",
          "data": {
            "image/png": "[encoded data removed]",
            "text/plain": [
              "<Figure size 432x288 with 20 Axes>"
            ]
          },
          "metadata": {}
        }
      ]
    },
    {
      "cell_type": "code",
      "metadata": {
        "colab": {
          "base_uri": "https://localhost:8080/",
          "height": 933
        },
        "id": "FwAECV4S0LL5",
        "outputId": "17188d0a-2f69-43c7-842b-bd4e6dda2c3f"
      },
      "source": [
        "Fashion_DeepConvAE_plus = DeepConvAE_plus(input_shape=(28, 28, 1), filters=[32, 64, 128, 16])\n",
        "Fashion_DeepConvAE_plus.compile(optimizer='adam', loss='mse')\n",
        "Fashion_DeepConvAE_plus_his = Fashion_DeepConvAE_plus.fit(Fashion_x, Fashion_x, batch_size=32, epochs=20)\n",
        "Fashion_px6 = Fashion_DeepConvAE_plus.predict(Fashion_x[200:])\n",
        "Compare_Images(Fashion_x[200:], Fashion_px6)"
      ],
      "execution_count": null,
      "outputs": [
        {
          "output_type": "stream",
          "name": "stdout",
          "text": [
            "Epoch 1/20\n",
            "2188/2188 [==============================] - 29s 12ms/step - loss: 0.0196\n",
            "Epoch 2/20\n",
            "2188/2188 [==============================] - 27s 12ms/step - loss: 0.0150\n",
            "Epoch 3/20\n",
            "2188/2188 [==============================] - 26s 12ms/step - loss: 0.0139\n",
            "Epoch 4/20\n",
            "2188/2188 [==============================] - 27s 12ms/step - loss: 0.0133\n",
            "Epoch 5/20\n",
            "2188/2188 [==============================] - 27s 12ms/step - loss: 0.0129\n",
            "Epoch 6/20\n",
            "2188/2188 [==============================] - 26s 12ms/step - loss: 0.0125\n",
            "Epoch 7/20\n",
            "2188/2188 [==============================] - 26s 12ms/step - loss: 0.0123\n",
            "Epoch 8/20\n",
            "2188/2188 [==============================] - 26s 12ms/step - loss: 0.0121\n",
            "Epoch 9/20\n",
            "2188/2188 [==============================] - 27s 12ms/step - loss: 0.0119\n",
            "Epoch 10/20\n",
            "2188/2188 [==============================] - 26s 12ms/step - loss: 0.0118\n",
            "Epoch 11/20\n",
            "2188/2188 [==============================] - 26s 12ms/step - loss: 0.0117\n",
            "Epoch 12/20\n",
            "2188/2188 [==============================] - 26s 12ms/step - loss: 0.0116\n",
            "Epoch 13/20\n",
            "2188/2188 [==============================] - 26s 12ms/step - loss: 0.0114\n",
            "Epoch 14/20\n",
            "2188/2188 [==============================] - 26s 12ms/step - loss: 0.0114\n",
            "Epoch 15/20\n",
            "2188/2188 [==============================] - 26s 12ms/step - loss: 0.0113\n",
            "Epoch 16/20\n",
            "2188/2188 [==============================] - 26s 12ms/step - loss: 0.0112\n",
            "Epoch 17/20\n",
            "2188/2188 [==============================] - 27s 12ms/step - loss: 0.0112\n",
            "Epoch 18/20\n",
            "2188/2188 [==============================] - 27s 12ms/step - loss: 0.0111\n",
            "Epoch 19/20\n",
            "2188/2188 [==============================] - 26s 12ms/step - loss: 0.0111\n",
            "Epoch 20/20\n",
            "2188/2188 [==============================] - 27s 12ms/step - loss: 0.0110\n"
          ]
        },
        {
          "output_type": "display_data",
          "data": {
            "image/png": "[encoded data removed]",
            "text/plain": [
              "<Figure size 432x288 with 20 Axes>"
            ]
          },
          "metadata": {}
        }
      ]
    },
    {
      "cell_type": "code",
      "metadata": {
        "id": "ykoPnWmC08rT"
      },
      "source": [
        "Fashion_kmeans_1 = KMeans(n_clusters=10, init='k-means++') # SimpleAE\n",
        "Fashion_kmeans_2 = KMeans(n_clusters=10, init='k-means++') # SimpleAE_plus\n",
        "Fashion_kmeans_3 = KMeans(n_clusters=10, init='k-means++') # ConvAE\n",
        "Fashion_kmeans_4 = KMeans(n_clusters=10, init='k-means++') # ConvAE_plus\n",
        "Fashion_kmeans_5 = KMeans(n_clusters=10, init='k-means++') # DeepConvAE\n",
        "Fashion_kmeans_6 = KMeans(n_clusters=10, init='k-means++') # DeepConvAE_plus"
      ],
      "execution_count": null,
      "outputs": []
    },
    {
      "cell_type": "code",
      "metadata": {
        "id": "59UCLeNG1DSN"
      },
      "source": [
        "# extract features\n",
        "Fashion_SimpleAE_features = Model(inputs=Fashion_SimpleAE.input, outputs=Fashion_SimpleAE.get_layer(name='embedding').output).predict(Fashion_x)\n",
        "Fashion_SimpleAE_plus_features = Model(inputs=Fashion_SimpleAE_plus.input, outputs=Fashion_SimpleAE_plus.get_layer(name='embedding').output).predict(Fashion_x)\n",
        "Fashion_ConvAE_features = Model(inputs=Fashion_ConvAE.input, outputs=Fashion_ConvAE.get_layer(name='embedding').output).predict(Fashion_x)\n",
        "Fashion_ConvAE_plus_features = Model(inputs=Fashion_ConvAE_plus.input, outputs=Fashion_ConvAE_plus.get_layer(name='embedding').output).predict(Fashion_x)\n",
        "Fashion_DeepConvAE_features = Model(inputs=Fashion_DeepConvAE.input, outputs=Fashion_DeepConvAE.get_layer(name='embedding').output).predict(Fashion_x)\n",
        "Fashion_DeepConvAE_plus_features = Model(inputs=Fashion_DeepConvAE_plus.input, outputs=Fashion_DeepConvAE_plus.get_layer(name='embedding').output).predict(Fashion_x)"
      ],
      "execution_count": null,
      "outputs": []
    },
    {
      "cell_type": "code",
      "metadata": {
        "colab": {
          "base_uri": "https://localhost:8080/"
        },
        "id": "HpeQX2Qw1Kxp",
        "outputId": "9bc35daf-2d1b-4724-cf8e-9b67e5c5498a"
      },
      "source": [
        "Fashion_SimpleAE_features = np.reshape(Fashion_SimpleAE_features, newshape=(Fashion_SimpleAE_features.shape[0], -1))\n",
        "Fashion_SimpleAE_plus_features = np.reshape(Fashion_SimpleAE_plus_features, newshape=(Fashion_SimpleAE_plus_features.shape[0], -1))\n",
        "Fashion_ConvAE_features = np.reshape(Fashion_ConvAE_features, newshape=(Fashion_ConvAE_features.shape[0], -1))\n",
        "Fashion_ConvAE_plus_features = np.reshape(Fashion_ConvAE_plus_features, newshape=(Fashion_ConvAE_plus_features.shape[0], -1))\n",
        "Fashion_DeepConvAE_features = np.reshape(Fashion_DeepConvAE_features, newshape=(Fashion_DeepConvAE_features.shape[0], -1))\n",
        "Fashion_DeepConvAE_plus_features = np.reshape(Fashion_DeepConvAE_plus_features, newshape=(Fashion_DeepConvAE_plus_features.shape[0], -1))\n",
        "\n",
        "\n",
        "print('Fashion_SimpleAE_features shape=', Fashion_SimpleAE_features.shape)\n",
        "print('Fashion_SimpleAE_plus_features shape=', Fashion_SimpleAE_plus_features.shape)\n",
        "print('Fashion_ConvAE_features shape=', Fashion_ConvAE_features.shape)\n",
        "print('Fashion_ConvAE_plus_features shape=', Fashion_ConvAE_plus_features.shape)\n",
        "print('Fashion_DeepConvAE_features shape=', Fashion_DeepConvAE_features.shape)\n",
        "print('Fashion_DeepConvAE_plus_features shape=', Fashion_DeepConvAE_plus_features.shape)"
      ],
      "execution_count": null,
      "outputs": [
        {
          "output_type": "stream",
          "name": "stdout",
          "text": [
            "Fashion_SimpleAE_features shape= (70000, 16)\n",
            "Fashion_SimpleAE_plus_features shape= (70000, 16)\n",
            "Fashion_ConvAE_features shape= (70000, 16)\n",
            "Fashion_ConvAE_plus_features shape= (70000, 16)\n",
            "Fashion_DeepConvAE_features shape= (70000, 16)\n",
            "Fashion_DeepConvAE_plus_features shape= (70000, 16)\n"
          ]
        }
      ]
    },
    {
      "cell_type": "code",
      "metadata": {
        "id": "6TcRgdR11TIU"
      },
      "source": [
        "# Learning & predict from the Data\n",
        "Fashion_SimpleAE_y = Fashion_kmeans_1.fit_predict(Fashion_SimpleAE_features)\n",
        "Fashion_SimpleAE_plus_y = Fashion_kmeans_2.fit_predict(Fashion_SimpleAE_plus_features)\n",
        "Fashion_ConvAE_y = Fashion_kmeans_3.fit_predict(Fashion_ConvAE_features)\n",
        "Fashion_ConvAE_plus_y = Fashion_kmeans_4.fit_predict(Fashion_ConvAE_plus_features)\n",
        "Fashion_DeepConvAE_y = Fashion_kmeans_5.fit_predict(Fashion_DeepConvAE_features)\n",
        "Fashion_DeepConvAE_plus_y = Fashion_kmeans_6.fit_predict(Fashion_DeepConvAE_plus_features)"
      ],
      "execution_count": null,
      "outputs": []
    },
    {
      "cell_type": "code",
      "metadata": {
        "colab": {
          "base_uri": "https://localhost:8080/"
        },
        "id": "NESobCzD10Q7",
        "outputId": "af6c9881-f4c4-4aa3-9f15-4197fba2f195"
      },
      "source": [
        "# Evaluations\n",
        "print(\"ARI score of Fashion_SimpleAE: \",ari(Fashion_y, Fashion_SimpleAE_y))\n",
        "print(\"NMI score of Fashion_SimpleAE: \",nmi(Fashion_y, Fashion_SimpleAE_y))\n",
        "\n",
        "print(\"ARI score of Fashion_SimpleAE_plus: \",ari(Fashion_y, Fashion_SimpleAE_plus_y))\n",
        "print(\"NMI score of Fashion_SimpleAE_plus: \",nmi(Fashion_y, Fashion_SimpleAE_plus_y))\n",
        "\n",
        "print(\"ARI score of Fashion_ConvAE: \",ari(Fashion_y, Fashion_ConvAE_y))\n",
        "print(\"NMI score of Fashion_ConvAE: \",nmi(Fashion_y, Fashion_ConvAE_y))\n",
        "\n",
        "print(\"ARI score of Fashion_ConvAE_plus: \",ari(Fashion_y, Fashion_ConvAE_plus_y))\n",
        "print(\"NMI score of Fashion_ConvAE_plus: \",nmi(Fashion_y, Fashion_ConvAE_plus_y))\n",
        "\n",
        "print(\"ARI score of Fashion_DeepConvAE: \",ari(Fashion_y, Fashion_DeepConvAE_y))\n",
        "print(\"NMI score of Fashion_DeepConvAE: \",nmi(Fashion_y, Fashion_DeepConvAE_y))\n",
        "\n",
        "print(\"ARI score of Fashion_DeepConvAE_plus: \",ari(Fashion_y, Fashion_DeepConvAE_plus_y))\n",
        "print(\"NMI score of Fashion_DeepConvAE_plus: \",nmi(Fashion_y, Fashion_DeepConvAE_plus_y))"
      ],
      "execution_count": null,
      "outputs": [
        {
          "output_type": "stream",
          "name": "stdout",
          "text": [
            "ARI score of Fashion_SimpleAE:  0.19023789957810266\n",
            "NMI score of Fashion_SimpleAE:  0.42615202376375294\n",
            "ARI score of Fashion_SimpleAE_plus:  0.3609333574736686\n",
            "NMI score of Fashion_SimpleAE_plus:  0.5329142854819651\n",
            "ARI score of Fashion_ConvAE:  0.370121751449945\n",
            "NMI score of Fashion_ConvAE:  0.5369409256637554\n",
            "ARI score of Fashion_ConvAE_plus:  0.37034795350270644\n",
            "NMI score of Fashion_ConvAE_plus:  0.5618748343933136\n",
            "ARI score of Fashion_DeepConvAE:  0.38357854299719\n",
            "NMI score of Fashion_DeepConvAE:  0.5604953436560646\n",
            "ARI score of Fashion_DeepConvAE_plus:  0.44984852149700116\n",
            "NMI score of Fashion_DeepConvAE_plus:  0.587629339845913\n"
          ]
        }
      ]
    },
    {
      "cell_type": "markdown",
      "metadata": {
        "id": "xn1WccvLBhKd"
      },
      "source": [
        "## Training our AutoEncoders for Cifar10 Dataset"
      ]
    },
    {
      "cell_type": "code",
      "metadata": {
        "id": "7tHGqmeeBX1z"
      },
      "source": [
        "Cifar10_SimpleAE = SimpleAE(input_shape=(32, 32, 3), filters=[64, 16])\n",
        "Cifar10_SimpleAE.compile(optimizer='adam', loss='mse')\n",
        "Cifar10_SimpleAE_his = Cifar10_SimpleAE.fit(Cifar10_x, Cifar10_x, batch_size=32, epochs=20)\n",
        "Cifar10_px = Cifar10_SimpleAE.predict(Cifar10_x[200:])\n"
      ],
      "execution_count": null,
      "outputs": []
    },
    {
      "cell_type": "code",
      "metadata": {
        "id": "PBnyDMpxaa_M"
      },
      "source": [
        "Compare_Images(Cifar10_x[200:], Cifar10_px)"
      ],
      "execution_count": null,
      "outputs": []
    },
    {
      "cell_type": "code",
      "metadata": {
        "id": "lrqinkZpBopv"
      },
      "source": [
        "Cifar10_SimpleAE_plus = SimpleAE_plus(input_shape=(32, 32, 3), filters=[64, 16])\n",
        "Cifar10_SimpleAE_plus.compile(optimizer='adam', loss='mse')\n",
        "Cifar10_SimpleAE_plus_his = Cifar10_SimpleAE_plus.fit(Cifar10_x, Cifar10_x, batch_size=32, epochs=20)\n",
        "Cifar10_px2 = Cifar10_SimpleAE.predict(Cifar10_x[200:])\n",
        "Compare_Images(Cifar10_x[200:], Cifar10_px2)"
      ],
      "execution_count": null,
      "outputs": []
    },
    {
      "cell_type": "code",
      "metadata": {
        "id": "e8sicHJ1Brv9"
      },
      "source": [
        "Cifar10_ConvAE = ConvAE(input_shape=(32, 32, 3), filters=[32, 64, 16])\n",
        "Cifar10_ConvAE.compile(optimizer='adam', loss='mse')\n",
        "Cifar10_ConvAE_his = Cifar10_ConvAE.fit(Cifar10_x, Cifar10_x, batch_size=32, epochs=20)\n",
        "Cifar10_px3 = Cifar10_ConvAE.predict(Cifar10_x[200:])\n",
        "Compare_Images(Cifar10_x[200:], Cifar10_px3)"
      ],
      "execution_count": null,
      "outputs": []
    },
    {
      "cell_type": "code",
      "metadata": {
        "id": "nXkTRK6eBtr9"
      },
      "source": [
        "Cifar10_ConvAE_plus = ConvAE_plus(input_shape=(32, 32, 3), filters=[32, 64, 16])\n",
        "Cifar10_ConvAE_plus.compile(optimizer='adam', loss='mse')\n",
        "Cifar10_ConvAE_plus_his = Cifar10_ConvAE_plus.fit(Cifar10_x, Cifar10_x, batch_size=32, epochs=20)\n",
        "Cifar10_px4 = Cifar10_ConvAE_plus.predict(Cifar10_x[200:])\n",
        "Compare_Images(Cifar10_x[200:], Cifar10_px4)"
      ],
      "execution_count": null,
      "outputs": []
    },
    {
      "cell_type": "code",
      "metadata": {
        "id": "YgX-SvgDBvZm"
      },
      "source": [
        "Cifar10_DeepConvAE = DeepConvAE(input_shape=(32, 32, 3), filters=[32, 64, 128, 16])\n",
        "Cifar10_DeepConvAE.compile(optimizer='adam', loss='mse')\n",
        "Cifar10_DeepConvAE_his = Cifar10_DeepConvAE.fit(Cifar10_x, Cifar10_x, batch_size=32, epochs=20)\n",
        "Cifar10_px5 = Cifar10_DeepConvAE.predict(Cifar10_x[200:])\n",
        "Compare_Images(Cifar10_x[200:], Cifar10_px5)"
      ],
      "execution_count": null,
      "outputs": []
    },
    {
      "cell_type": "code",
      "metadata": {
        "id": "CJDyVxaHBzlU"
      },
      "source": [
        "Cifar10_DeepConvAE_plus = DeepConvAE_plus(input_shape=(32, 32, 3), filters=[32, 64, 128, 16])\n",
        "Cifar10_DeepConvAE_plus.compile(optimizer='adam', loss='mse')\n",
        "Cifar10_DeepConvAE_plus_his = Cifar10_DeepConvAE_plus.fit(Cifar10_x, Cifar10_x, batch_size=32, epochs=20)\n",
        "Cifar10_px6 = Cifar10_DeepConvAE_plus.predict(Cifar10_x[200:])\n",
        "Compare_Images(Cifar10_x[200:], Cifar10_px6)"
      ],
      "execution_count": null,
      "outputs": []
    },
    {
      "cell_type": "code",
      "metadata": {
        "id": "qS7FWhFvB1gD"
      },
      "source": [
        "Cifar10_kmeans_1 = KMeans(n_clusters=10, init='k-means++') # SimpleAE\n",
        "Cifar10_kmeans_2 = KMeans(n_clusters=10, init='k-means++') # SimpleAE_plus\n",
        "Cifar10_kmeans_3 = KMeans(n_clusters=10, init='k-means++') # ConvAE\n",
        "Cifar10_kmeans_4 = KMeans(n_clusters=10, init='k-means++') # ConvAE_plus\n",
        "Cifar10_kmeans_5 = KMeans(n_clusters=10, init='k-means++') # DeepConvAE\n",
        "Cifar10_kmeans_6 = KMeans(n_clusters=10, init='k-means++') # DeepConvAE_plus"
      ],
      "execution_count": null,
      "outputs": []
    },
    {
      "cell_type": "code",
      "metadata": {
        "id": "qOgfiPi0B200"
      },
      "source": [
        "# extract features\n",
        "Cifar10_SimpleAE_features = Model(inputs=Cifar10_SimpleAE.input, outputs=Cifar10_SimpleAE.get_layer(name='embedding').output).predict(Cifar10_x)\n",
        "Cifar10_SimpleAE_plus_features = Model(inputs=Cifar10_SimpleAE_plus.input, outputs=Cifar10_SimpleAE_plus.get_layer(name='embedding').output).predict(Cifar10_x)\n",
        "Cifar10_ConvAE_features = Model(inputs=Cifar10_ConvAE.input, outputs=Cifar10_ConvAE.get_layer(name='embedding').output).predict(Cifar10_x)\n",
        "Cifar10_ConvAE_plus_features = Model(inputs=Cifar10_ConvAE_plus.input, outputs=Cifar10_ConvAE_plus.get_layer(name='embedding').output).predict(Cifar10_x)\n",
        "Cifar10_DeepConvAE_features = Model(inputs=Cifar10_DeepConvAE.input, outputs=Cifar10_DeepConvAE.get_layer(name='embedding').output).predict(Cifar10_x)\n",
        "Cifar10_DeepConvAE_plus_features = Model(inputs=Cifar10_DeepConvAE_plus.input, outputs=Cifar10_DeepConvAE_plus.get_layer(name='embedding').output).predict(Cifar10_x)"
      ],
      "execution_count": null,
      "outputs": []
    },
    {
      "cell_type": "code",
      "metadata": {
        "id": "WM77vbGiB43o"
      },
      "source": [
        "Cifar10_SimpleAE_features = np.reshape(Cifar10_SimpleAE_features, newshape=(Cifar10_SimpleAE_features.shape[0], -1))\n",
        "Cifar10_SimpleAE_plus_features = np.reshape(Cifar10_SimpleAE_plus_features, newshape=(Cifar10_SimpleAE_plus_features.shape[0], -1))\n",
        "Cifar10_ConvAE_features = np.reshape(Cifar10_ConvAE_features, newshape=(Cifar10_ConvAE_features.shape[0], -1))\n",
        "Cifar10_ConvAE_plus_features = np.reshape(Cifar10_ConvAE_plus_features, newshape=(Cifar10_ConvAE_plus_features.shape[0], -1))\n",
        "Cifar10_DeepConvAE_features = np.reshape(Cifar10_DeepConvAE_features, newshape=(Cifar10_DeepConvAE_features.shape[0], -1))\n",
        "Cifar10_DeepConvAE_plus_features = np.reshape(Cifar10_DeepConvAE_plus_features, newshape=(Cifar10_DeepConvAE_plus_features.shape[0], -1))\n",
        "\n",
        "\n",
        "print('Cifar10_SimpleAE_features shape=', Cifar10_SimpleAE_features.shape)\n",
        "print('Cifar10_SimpleAE_plus_features shape=', Cifar10_SimpleAE_plus_features.shape)\n",
        "print('Cifar10_ConvAE_features shape=', Cifar10_ConvAE_features.shape)\n",
        "print('Cifar10_ConvAE_plus_features shape=', Cifar10_ConvAE_plus_features.shape)\n",
        "print('Cifar10_DeepConvAE_features shape=', Cifar10_DeepConvAE_features.shape)\n",
        "print('Cifar10_DeepConvAE_plus_features shape=', Cifar10_DeepConvAE_plus_features.shape)"
      ],
      "execution_count": null,
      "outputs": []
    },
    {
      "cell_type": "code",
      "metadata": {
        "id": "PFKarXidB6a0"
      },
      "source": [
        "# Learning & predict from the Data\n",
        "Cifar10_SimpleAE_y = Cifar10_kmeans_1.fit_predict(Cifar10_SimpleAE_features)\n",
        "Cifar10_SimpleAE_plus_y = Cifar10_kmeans_2.fit_predict(Cifar10_SimpleAE_plus_features)\n",
        "Cifar10_ConvAE_y = Cifar10_kmeans_3.fit_predict(Cifar10_ConvAE_features)\n",
        "Cifar10_ConvAE_plus_y = Cifar10_kmeans_4.fit_predict(Cifar10_ConvAE_plus_features)\n",
        "Cifar10_DeepConvAE_y = Cifar10_kmeans_5.fit_predict(Cifar10_DeepConvAE_features)\n",
        "Cifar10_DeepConvAE_plus_y = Cifar10_kmeans_6.fit_predict(Cifar10_DeepConvAE_plus_features)"
      ],
      "execution_count": null,
      "outputs": []
    },
    {
      "cell_type": "code",
      "metadata": {
        "id": "Jy2o3rSkB8fE"
      },
      "source": [
        "# Evaluations\n",
        "print(\"ARI score of Cifar10_SimpleAE: \",ari(Cifar10_y, Cifar10_SimpleAE_y))\n",
        "print(\"NMI score of Cifar10_SimpleAE: \",nmi(Cifar10_y, Cifar10_SimpleAE_y))\n",
        "\n",
        "print(\"ARI score of Cifar10_SimpleAE_plus: \",ari(Cifar10_y, Cifar10_SimpleAE_plus_y))\n",
        "print(\"NMI score of Cifar10_SimpleAE_plus: \",nmi(Cifar10_y, Cifar10_SimpleAE_plus_y))\n",
        "\n",
        "print(\"ARI score of Cifar10_ConvAE: \",ari(Cifar10_y, Cifar10_ConvAE_y))\n",
        "print(\"NMI score of Cifar10_ConvAE: \",nmi(Cifar10_y, Cifar10_ConvAE_y))\n",
        "\n",
        "print(\"ARI score of Cifar10_ConvAE_plus: \",ari(Cifar10_y, Cifar10_ConvAE_plus_y))\n",
        "print(\"NMI score of Cifar10_ConvAE_plus: \",nmi(Cifar10_y, Cifar10_ConvAE_plus_y))\n",
        "\n",
        "print(\"ARI score of Cifar10_DeepConvAE: \",ari(Cifar10_y, Cifar10_DeepConvAE_y))\n",
        "print(\"NMI score of Cifar10_DeepConvAE: \",nmi(Cifar10_y, Cifar10_DeepConvAE_y))\n",
        "\n",
        "print(\"ARI score of Cifar10_DeepConvAE_plus: \",ari(Cifar10_y, Cifar10_DeepConvAE_plus_y))\n",
        "print(\"NMI score of Cifar10_DeepConvAE_plus: \",nmi(Cifar10_y, Cifar10_DeepConvAE_plus_y))"
      ],
      "execution_count": null,
      "outputs": []
    },
    {
      "cell_type": "markdown",
      "metadata": {
        "id": "f0YHGvF5jAT9"
      },
      "source": [
        "# Deep Clustering"
      ]
    },
    {
      "cell_type": "code",
      "metadata": {
        "id": "3Wr5C9qjkhJs"
      },
      "source": [
        "epochs = 12\n",
        "learning_rate = 0.00002"
      ],
      "execution_count": null,
      "outputs": []
    },
    {
      "cell_type": "code",
      "metadata": {
        "id": "YVodzp9tlU9s"
      },
      "source": [
        "def DeepConvAE_plus2 (input_shape=(28, 28, 1), filters=[32, 64, 128, 30]):\n",
        "  padding = 'valid'\n",
        "  if (input_shape[0])%8 == 0:\n",
        "    padding = 'same'\n",
        "\n",
        "  model = Sequential()\n",
        "  model.add(Conv2D(filters[0], (5, 5), strides=1, padding='same', name='encoder_1', input_shape=input_shape))\n",
        "  # model.add(BatchNormalization())\n",
        "  model.add(LeakyReLU())\n",
        "  \n",
        "  model.add(Conv2D(filters[1], (3, 3), strides=2, padding='same', name='encoder_2'))\n",
        "  # model.add(BatchNormalization())\n",
        "  model.add(LeakyReLU())\n",
        "  \n",
        "  model.add(Conv2D(filters[2], (3, 3), strides=2, padding=padding, name='encoder_3'))\n",
        "  # model.add(BatchNormalization())\n",
        "  model.add(LeakyReLU())\n",
        "  reshape = model.output_shape\n",
        "  \n",
        "  model.add(Flatten())\n",
        "  model.add(Dense(filters[3]))\n",
        "  # model.add(BatchNormalization())\n",
        "  # model.add(LeakyReLU())\n",
        "  # model.add(ActivityRegularization(l1=10e-6, name='embedding'))\n",
        "  \n",
        "  model.add(Dense(filters[2]*reshape[1]*reshape[1], activation='relu'))\n",
        "  # model.add(BatchNormalization())\n",
        "  model.add(LeakyReLU())\n",
        "  model.add(Reshape((reshape[1],reshape[1], filters[2])))\n",
        "  \n",
        "  model.add(Conv2DTranspose(filters[1], (3, 3), strides=2, padding=padding, name='decoder_3'))\n",
        "  # model.add(BatchNormalization())\n",
        "  model.add(LeakyReLU())\n",
        "\n",
        "  model.add(Conv2DTranspose(filters[0], (3, 3), strides=2, padding='same', name='decoder_2'))\n",
        "  # model.add(BatchNormalization())\n",
        "  model.add(LeakyReLU())\n",
        "\n",
        "  model.add(Conv2DTranspose(input_shape[2], (5, 5), strides=1, padding='same', name='decoder_1'))\n",
        "  # model.summary()\n",
        "  return model"
      ],
      "execution_count": null,
      "outputs": []
    },
    {
      "cell_type": "code",
      "metadata": {
        "colab": {
          "base_uri": "https://localhost:8080/"
        },
        "id": "dxWr0x3IjEa-",
        "outputId": "0c23daea-4047-4b91-846a-23eb1ffcae86"
      },
      "source": [
        "Cifar10_Deep = DeepConvAE_plus2(input_shape=(32, 32, 3), filters=[64, 128, 128, 200])\n",
        "Cifar10_Deep.compile(optimizer=tf.keras.optimizers.Adam(learning_rate=learning_rate), \n",
        "                                loss='mse')\n",
        "Cifar10_Deep.summary()"
      ],
      "execution_count": null,
      "outputs": [
        {
          "output_type": "stream",
          "name": "stdout",
          "text": [
            "Model: \"sequential_4\"\n",
            "_________________________________________________________________\n",
            " Layer (type)                Output Shape              Param #   \n",
            "=================================================================\n",
            " encoder_1 (Conv2D)          (None, 32, 32, 64)        4864      \n",
            "                                                                 \n",
            " leaky_re_lu_24 (LeakyReLU)  (None, 32, 32, 64)        0         \n",
            "                                                                 \n",
            " encoder_2 (Conv2D)          (None, 16, 16, 128)       73856     \n",
            "                                                                 \n",
            " leaky_re_lu_25 (LeakyReLU)  (None, 16, 16, 128)       0         \n",
            "                                                                 \n",
            " encoder_3 (Conv2D)          (None, 8, 8, 128)         147584    \n",
            "                                                                 \n",
            " leaky_re_lu_26 (LeakyReLU)  (None, 8, 8, 128)         0         \n",
            "                                                                 \n",
            " flatten_4 (Flatten)         (None, 8192)              0         \n",
            "                                                                 \n",
            " dense_8 (Dense)             (None, 200)               1638600   \n",
            "                                                                 \n",
            " dense_9 (Dense)             (None, 8192)              1646592   \n",
            "                                                                 \n",
            " leaky_re_lu_27 (LeakyReLU)  (None, 8192)              0         \n",
            "                                                                 \n",
            " reshape_4 (Reshape)         (None, 8, 8, 128)         0         \n",
            "                                                                 \n",
            " decoder_3 (Conv2DTranspose)  (None, 16, 16, 128)      147584    \n",
            "                                                                 \n",
            " leaky_re_lu_28 (LeakyReLU)  (None, 16, 16, 128)       0         \n",
            "                                                                 \n",
            " decoder_2 (Conv2DTranspose)  (None, 32, 32, 64)       73792     \n",
            "                                                                 \n",
            " leaky_re_lu_29 (LeakyReLU)  (None, 32, 32, 64)        0         \n",
            "                                                                 \n",
            " decoder_1 (Conv2DTranspose)  (None, 32, 32, 3)        4803      \n",
            "                                                                 \n",
            "=================================================================\n",
            "Total params: 3,737,675\n",
            "Trainable params: 3,737,675\n",
            "Non-trainable params: 0\n",
            "_________________________________________________________________\n"
          ]
        }
      ]
    },
    {
      "cell_type": "code",
      "metadata": {
        "colab": {
          "base_uri": "https://localhost:8080/"
        },
        "id": "9DdqgWQMmNb-",
        "outputId": "2bc8a953-eaec-48c8-815f-df614657f6db"
      },
      "source": [
        "Cifar10_Deep_history = Cifar10_Deep.fit(Cifar10_x, Cifar10_x, batch_size=32, epochs=epochs)"
      ],
      "execution_count": null,
      "outputs": [
        {
          "output_type": "stream",
          "name": "stdout",
          "text": [
            "Epoch 1/12\n",
            "1875/1875 [==============================] - 42s 22ms/step - loss: 0.0348\n",
            "Epoch 2/12\n",
            "1875/1875 [==============================] - 41s 22ms/step - loss: 0.0127\n",
            "Epoch 3/12\n",
            "1875/1875 [==============================] - 41s 22ms/step - loss: 0.0091\n",
            "Epoch 4/12\n",
            "1875/1875 [==============================] - 41s 22ms/step - loss: 0.0078\n",
            "Epoch 5/12\n",
            "1875/1875 [==============================] - 41s 22ms/step - loss: 0.0069\n",
            "Epoch 6/12\n",
            "1875/1875 [==============================] - 41s 22ms/step - loss: 0.0063\n",
            "Epoch 7/12\n",
            "1875/1875 [==============================] - 41s 22ms/step - loss: 0.0056\n",
            "Epoch 8/12\n",
            "1875/1875 [==============================] - 41s 22ms/step - loss: 0.0052\n",
            "Epoch 9/12\n",
            "1875/1875 [==============================] - 41s 22ms/step - loss: 0.0049\n",
            "Epoch 10/12\n",
            "1875/1875 [==============================] - 41s 22ms/step - loss: 0.0047\n",
            "Epoch 11/12\n",
            "1875/1875 [==============================] - 41s 22ms/step - loss: 0.0045\n",
            "Epoch 12/12\n",
            "1875/1875 [==============================] - 41s 22ms/step - loss: 0.0044\n"
          ]
        }
      ]
    },
    {
      "cell_type": "code",
      "metadata": {
        "colab": {
          "base_uri": "https://localhost:8080/"
        },
        "id": "7ioKa5Lej_By",
        "outputId": "f70e90eb-cc58-460c-ed5f-b9ffe83d0d51"
      },
      "source": [
        "from google.colab import drive\n",
        "drive.mount('/content/drive')"
      ],
      "execution_count": null,
      "outputs": [
        {
          "output_type": "stream",
          "name": "stdout",
          "text": [
            "Drive already mounted at /content/drive; to attempt to forcibly remount, call drive.mount(\"/content/drive\", force_remount=True).\n"
          ]
        }
      ]
    },
    {
      "cell_type": "code",
      "metadata": {
        "colab": {
          "base_uri": "https://localhost:8080/"
        },
        "id": "nw-pg3bPjLm6",
        "outputId": "42f02532-54ed-4d74-aab3-cae6e394f6e5"
      },
      "source": [
        "Cifar10_Deep.save('drive/MyDrive/work/Cifar10_Deep')"
      ],
      "execution_count": null,
      "outputs": [
        {
          "output_type": "stream",
          "name": "stdout",
          "text": [
            "INFO:tensorflow:Assets written to: drive/MyDrive/work/Cifar10_Deep/assets\n"
          ]
        }
      ]
    },
    {
      "cell_type": "code",
      "metadata": {
        "id": "7rrIp1OAkhpb"
      },
      "source": [
        "Cifar10_Deep = tf.keras.models.load_model('drive/MyDrive/work//Cifar10_Deep')"
      ],
      "execution_count": null,
      "outputs": []
    },
    {
      "cell_type": "code",
      "metadata": {
        "id": "oxjW2_-AuAL0"
      },
      "source": [
        "Cifar10_deep_predict = Cifar10_Deep.predict(Cifar10_x)"
      ],
      "execution_count": null,
      "outputs": []
    },
    {
      "cell_type": "code",
      "metadata": {
        "id": "RhSO6Wr0fIjR"
      },
      "source": [
        "np.save('drive/MyDrive/work/Cifar10_deep_predict.npy', Cifar10_deep_predict)"
      ],
      "execution_count": null,
      "outputs": []
    },
    {
      "cell_type": "code",
      "metadata": {
        "id": "dyyzy1hgfVOS"
      },
      "source": [
        "Cifar10_deep_predict = np.load('drive/MyDrive/work/Cifar10_deep_predict.npy')"
      ],
      "execution_count": null,
      "outputs": []
    },
    {
      "cell_type": "code",
      "metadata": {
        "colab": {
          "base_uri": "https://localhost:8080/",
          "height": 286
        },
        "id": "nSaP9jJk-U-c",
        "outputId": "dc7629f0-9d03-4f9f-9dc2-13057ef5e2a6"
      },
      "source": [
        "Compare_Images(Cifar10_x[0:100], Cifar10_deep_predict[0:100], num_imgs=5)"
      ],
      "execution_count": null,
      "outputs": [
        {
          "output_type": "stream",
          "name": "stderr",
          "text": [
            "Clipping input data to the valid range for imshow with RGB data ([0..1] for floats or [0..255] for integers).\n",
            "Clipping input data to the valid range for imshow with RGB data ([0..1] for floats or [0..255] for integers).\n",
            "Clipping input data to the valid range for imshow with RGB data ([0..1] for floats or [0..255] for integers).\n",
            "Clipping input data to the valid range for imshow with RGB data ([0..1] for floats or [0..255] for integers).\n"
          ]
        },
        {
          "output_type": "display_data",
          "data": {
            "image/png": "[encoded data removed]",
            "text/plain": [
              "<Figure size 432x288 with 10 Axes>"
            ]
          },
          "metadata": {
            "needs_background": "light"
          }
        }
      ]
    },
    {
      "cell_type": "code",
      "metadata": {
        "id": "rcuXE7ye_6v-"
      },
      "source": [
        "Cifar10_kmeans = KMeans(n_clusters=10, init='k-means++')\n",
        "Cifar10_sc = SpectralClustering(n_clusters = 10, affinity ='rbf')"
      ],
      "execution_count": null,
      "outputs": []
    },
    {
      "cell_type": "code",
      "metadata": {
        "id": "nXYYUQyJ_6v-"
      },
      "source": [
        "# extract features\n",
        "Cifar10_features = Model(inputs=Cifar10_Deep.input, outputs=Cifar10_Deep.get_layer(name='dense_8').output).predict(Cifar10_x[0:7000])"
      ],
      "execution_count": null,
      "outputs": []
    },
    {
      "cell_type": "code",
      "metadata": {
        "colab": {
          "base_uri": "https://localhost:8080/"
        },
        "id": "l_PCGG3v_6v_",
        "outputId": "03e7acc2-3e28-4b08-a291-f7cd09740662"
      },
      "source": [
        "Cifar10_features = np.reshape(Cifar10_features, newshape=(Cifar10_features.shape[0], -1))\n",
        "print('Cifar10_features shape=', Cifar10_features.shape)"
      ],
      "execution_count": null,
      "outputs": [
        {
          "output_type": "stream",
          "name": "stdout",
          "text": [
            "Cifar10_features shape= (7000, 200)\n"
          ]
        }
      ]
    },
    {
      "cell_type": "code",
      "metadata": {
        "id": "UGDFlt7K_6v_"
      },
      "source": [
        "# Learning & predict from the Data\n",
        "Cifar10_pred_y_kmeans = Cifar10_kmeans.fit_predict(Cifar10_features)\n",
        "# Cifar10_pred_y_sc = Cifar10_sc.fit_predict(Cifar10_features)"
      ],
      "execution_count": null,
      "outputs": []
    },
    {
      "cell_type": "code",
      "metadata": {
        "id": "Io1395fJ_6v_",
        "colab": {
          "base_uri": "https://localhost:8080/"
        },
        "outputId": "ef121f67-eaad-47dc-da3c-abbcf85f709a"
      },
      "source": [
        "# Evaluations\n",
        "print(\"ARI score of Autoencoder & Cifar10_kmeans: \",ari(Cifar10_y[0:7000], Cifar10_pred_y_kmeans[0:7000]))\n",
        "print(\"NMI score of Autoencoder & Cifar10_kmeans: \",nmi(Cifar10_y[0:7000], Cifar10_pred_y_sc[0:7000]))"
      ],
      "execution_count": null,
      "outputs": [
        {
          "output_type": "stream",
          "name": "stdout",
          "text": [
            "ARI score of Autoencoder & Cifar10_kmeans:  0.04981944488873563\n",
            "NMI score of Autoencoder & Cifar10_kmeans:  0.1179284851525351\n"
          ]
        }
      ]
    },
    {
      "cell_type": "markdown",
      "metadata": {
        "id": "nB4qY5yAKH92"
      },
      "source": [
        "Bibliography\n",
        "\n",
        "*   [Neural Networks and Clustering 2 ( Autoencoders + kmeans )](https://www.youtube.com/watch?v=ci0xtJwZdzk)\n",
        "*   [Neural Networks and Clustering (Autoencoders)](https://www.youtube.com/watch?v=0oEMORg04zw)\n",
        "*   [Deep Clustering with Convolutional Autoencoders](https://www.youtube.com/watch?v=fxUaJSfZMxk)"
      ]
    }
  ]
}